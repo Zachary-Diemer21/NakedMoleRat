{
 "cells": [
  {
   "cell_type": "code",
   "execution_count": 4,
   "metadata": {
    "collapsed": true
   },
   "outputs": [],
   "source": [
    "# We need to run the cpp file on every data file \n",
    "# Then we need to feed the outputted data file through the apriori command \n",
    "# Then edit the cpp file \n",
    "# Then we need to feed those results to gephi and analyze the results "
   ]
  },
  {
   "cell_type": "code",
   "execution_count": 1,
   "metadata": {
    "collapsed": false
   },
   "outputs": [
    {
     "name": "stdout",
     "output_type": "stream",
     "text": [
      "Gathered the Data filenames\n"
     ]
    }
   ],
   "source": [
    "%%bash\n",
    "\n",
    "# Change Directory to where datafiles are located\n",
    "cd ~/Desktop/tmp \n",
    "\n",
    "# Create an empty file to hold the data filenames\n",
    "touch filenames.txt\n",
    "\n",
    "# Create a list of datafile names\n",
    "ls | grep vapor > filenames.txt\n",
    "\n",
    "echo 'Gathered the Data filenames'"
   ]
  },
  {
   "cell_type": "code",
   "execution_count": 2,
   "metadata": {
    "collapsed": false
   },
   "outputs": [
    {
     "name": "stdout",
     "output_type": "stream",
     "text": [
      "/home/zackymo/Desktop/tmp\n",
      "Got Data Bitch? Yes ;) Biotch.\n"
     ]
    }
   ],
   "source": [
    "% cd ~/Desktop/tmp \n",
    "\n",
    "import fileinput\n",
    "\n",
    "def getdata(filename):\n",
    "    with open(filename) as file:\n",
    "        filenames = file.read().splitlines()\n",
    "        return filenames\n",
    "\n",
    "gotdata = getdata('filenames.txt')\n",
    "\n",
    "print(\"Got Data Bitch? Yes ;) Biotch; I got my data.\".format(gotdata))"
   ]
  },
  {
   "cell_type": "code",
   "execution_count": 4,
   "metadata": {
    "collapsed": false
   },
   "outputs": [
    {
     "name": "stdout",
     "output_type": "stream",
     "text": [
      "File vapor.txt was Edited\n",
      "Data was updated to edit the next file\n",
      "Build file was created - Will attempt to run now!!!\n",
      "Segmentation fault\n",
      "Build file was successfully run\n",
      "Preparing to run the Apriori Algo\n",
      "./apriori - find frequent item sets with the apriori algorithm\n",
      "version 6.24 (2016.10.15)        (c) 1996-2016   Christian Borgelt\n",
      "reading yoloV1.out ... [2 item(s), 66320 transaction(s)] done [0.15s].\n",
      "building transaction tree ... [3 node(s)] done [0.00s].\n",
      "checking subsets of size 1 2 done [0.00s].\n",
      "filtering for maximal item sets ... done [0.00s].\n",
      "writing yoloV1Apriori2.out ... [1 set(s)] done [0.00s].\n",
      "Apriori Algo finished running!!! \n",
      "File vapor2.txt was Edited\n",
      "Data was updated to edit the next file\n",
      "Build file was created - Will attempt to run now!!!\n",
      "Segmentation fault\n",
      "Build file was successfully run\n",
      "Preparing to run the Apriori Algo\n",
      "./apriori - find frequent item sets with the apriori algorithm\n",
      "version 6.24 (2016.10.15)        (c) 1996-2016   Christian Borgelt\n",
      "reading yoloV1.out ... [2 item(s), 149860 transaction(s)] done [0.36s].\n",
      "building transaction tree ... [3 node(s)] done [0.00s].\n",
      "checking subsets of size 1 2 done [0.00s].\n",
      "filtering for maximal item sets ... done [0.00s].\n",
      "writing yoloV1Apriori3.out ... [1 set(s)] done [0.00s].\n",
      "Apriori Algo finished running!!! \n",
      "File vapor3.txt was Edited\n",
      "Data was updated to edit the next file\n",
      "Build file was created - Will attempt to run now!!!\n",
      "Segmentation fault\n",
      "Build file was successfully run\n",
      "Preparing to run the Apriori Algo\n",
      "./apriori - find frequent item sets with the apriori algorithm\n",
      "version 6.24 (2016.10.15)        (c) 1996-2016   Christian Borgelt\n",
      "reading yoloV1.out ... [2 item(s), 206480 transaction(s)] done [0.50s].\n",
      "building transaction tree ... [3 node(s)] done [0.00s].\n",
      "checking subsets of size 1 2 done [0.00s].\n",
      "filtering for maximal item sets ... done [0.00s].\n",
      "writing yoloV1Apriori4.out ... [1 set(s)] done [0.00s].\n",
      "Apriori Algo finished running!!! \n",
      "File vapor4.txt was Edited\n",
      "Data was updated to edit the next file\n",
      "Build file was created - Will attempt to run now!!!\n",
      "Segmentation fault\n",
      "Build file was successfully run\n",
      "Preparing to run the Apriori Algo\n",
      "./apriori - find frequent item sets with the apriori algorithm\n",
      "version 6.24 (2016.10.15)        (c) 1996-2016   Christian Borgelt\n",
      "reading yoloV1.out ... [2 item(s), 88540 transaction(s)] done [0.21s].\n",
      "building transaction tree ... [3 node(s)] done [0.00s].\n",
      "checking subsets of size 1 2 done [0.00s].\n",
      "filtering for maximal item sets ... done [0.00s].\n",
      "writing yoloV1Apriori5.out ... [1 set(s)] done [0.00s].\n",
      "Apriori Algo finished running!!! \n",
      "Everything finished running!!! Fuck yes Mofo\n"
     ]
    }
   ],
   "source": [
    "count = 1\n",
    "fileToSearch ='Bigtest2.C'\n",
    "textToSearch = gotdata[-1]\n",
    "\n",
    "for files in gotdata:\n",
    "    textToReplace = files\n",
    "\n",
    "    with fileinput.FileInput(fileToSearch, inplace=True, backup='{}.bak'.format(count)) as file:\n",
    "        for line in file:\n",
    "            print(line.replace(textToSearch, textToReplace), end='')\n",
    "            # print(line.replace(textToSearch, textToReplace), end='')\n",
    "            # print(line.replace(textToSearch, textToReplace), end\n",
    "\n",
    "    print('File {} was Edited'.format(textToSearch))\n",
    "    \n",
    "    textToSearch = str(files)\n",
    "    count += 1\n",
    "    \n",
    "    print('Data was updated to edit the next file')\n",
    "    \n",
    "    ! g++ Bigtest2.C -o Bigtest\n",
    "    \n",
    "    print('Build file was created - Will attempt to run now!!!')\n",
    "    \n",
    "    ! ./Bigtest\n",
    "    \n",
    "    print('Build file was successfully run')\n",
    "    \n",
    "    print('Preparing to run the Apriori Algo')\n",
    "    \n",
    "    ! ./apriori -b\",\" -tm -s50 yoloV1.out yoloV1Apriori\"$count\".out\n",
    "    #! ./apriori -b\",\" -tm -s50 yoloV2.out yoloV2Apriori\"$count\".out\n",
    "    \n",
    "    print('Apriori Algo finished running!!! ')\n",
    "          \n",
    "print('Everything finished running!!! Fuck yes Mofo')"
   ]
  },
  {
   "cell_type": "code",
   "execution_count": null,
   "metadata": {
    "collapsed": true
   },
   "outputs": [],
   "source": [
    "# Need to investigate why the Apriori stuff does not work or it does, but why is it not working correctly? \n",
    "# Need to investigate individual cases "
   ]
  },
  {
   "cell_type": "code",
   "execution_count": null,
   "metadata": {
    "collapsed": true
   },
   "outputs": [],
   "source": [
    "# %run -- This will run other ipython notebooks \n",
    "\n",
    "#  %run $filename {args[0]} {args[1][-2:]}\n",
    "#myscript.py', 'arg1', 'g2']"
   ]
  }
 ],
 "metadata": {
  "anaconda-cloud": {},
  "kernelspec": {
   "display_name": "Python [conda root]",
   "language": "python",
   "name": "conda-root-py"
  },
  "language_info": {
   "codemirror_mode": {
    "name": "ipython",
    "version": 3
   },
   "file_extension": ".py",
   "mimetype": "text/x-python",
   "name": "python",
   "nbconvert_exporter": "python",
   "pygments_lexer": "ipython3",
   "version": "3.5.2"
  }
 },
 "nbformat": 4,
 "nbformat_minor": 1
}
