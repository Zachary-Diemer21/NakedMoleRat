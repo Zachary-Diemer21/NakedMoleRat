{
 "cells": [
  {
   "cell_type": "markdown",
   "metadata": {},
   "source": [
    "# Creating the adjacency matrices "
   ]
  },
  {
   "cell_type": "markdown",
   "metadata": {},
   "source": [
    "# Test Cell - Very Simple Example "
   ]
  },
  {
   "cell_type": "code",
   "execution_count": 30,
   "metadata": {
    "collapsed": false
   },
   "outputs": [
    {
     "name": "stdout",
     "output_type": "stream",
     "text": [
      "[1] \"Example Dataframe\"\n"
     ]
    },
    {
     "data": {
      "text/html": [
       "<table>\n",
       "<thead><tr><th scope=col>X1</th><th scope=col>X2</th><th scope=col>X3</th></tr></thead>\n",
       "<tbody>\n",
       "\t<tr><td>1</td><td>3</td><td>1</td></tr>\n",
       "\t<tr><td>2</td><td>4</td><td>6</td></tr>\n",
       "\t<tr><td>3</td><td>5</td><td>3</td></tr>\n",
       "\t<tr><td>9</td><td>9</td><td>9</td></tr>\n",
       "</tbody>\n",
       "</table>\n"
      ],
      "text/latex": [
       "\\begin{tabular}{r|lll}\n",
       " X1 & X2 & X3\\\\\n",
       "\\hline\n",
       "\t 1 & 3 & 1\\\\\n",
       "\t 2 & 4 & 6\\\\\n",
       "\t 3 & 5 & 3\\\\\n",
       "\t 9 & 9 & 9\\\\\n",
       "\\end{tabular}\n"
      ],
      "text/markdown": [
       "\n",
       "X1 | X2 | X3 | \n",
       "|---|---|---|---|\n",
       "| 1 | 3 | 1 | \n",
       "| 2 | 4 | 6 | \n",
       "| 3 | 5 | 3 | \n",
       "| 9 | 9 | 9 | \n",
       "\n",
       "\n"
      ],
      "text/plain": [
       "  X1 X2 X3\n",
       "1 1  3  1 \n",
       "2 2  4  6 \n",
       "3 3  5  3 \n",
       "4 9  9  9 "
      ]
     },
     "metadata": {},
     "output_type": "display_data"
    },
    {
     "name": "stdout",
     "output_type": "stream",
     "text": [
      "[1] \"All data Structures before calculation\"\n",
      "[1] \"Incidence dataframe before calculation\"\n"
     ]
    },
    {
     "data": {
      "text/html": [
       "<table>\n",
       "<tbody>\n",
       "\t<tr><td>4</td><td>0</td><td>0</td></tr>\n",
       "\t<tr><td>0</td><td>4</td><td>0</td></tr>\n",
       "\t<tr><td>0</td><td>0</td><td>4</td></tr>\n",
       "</tbody>\n",
       "</table>\n"
      ],
      "text/latex": [
       "\\begin{tabular}{lll}\n",
       "\t 4 & 0 & 0\\\\\n",
       "\t 0 & 4 & 0\\\\\n",
       "\t 0 & 0 & 4\\\\\n",
       "\\end{tabular}\n"
      ],
      "text/markdown": [
       "\n",
       "| 4 | 0 | 0 | \n",
       "| 0 | 4 | 0 | \n",
       "| 0 | 0 | 4 | \n",
       "\n",
       "\n"
      ],
      "text/plain": [
       "     [,1] [,2] [,3]\n",
       "[1,] 4    0    0   \n",
       "[2,] 0    4    0   \n",
       "[3,] 0    0    4   "
      ]
     },
     "metadata": {},
     "output_type": "display_data"
    },
    {
     "name": "stdout",
     "output_type": "stream",
     "text": [
      "[1] \"Unthresholded dataframe before calculation\"\n"
     ]
    },
    {
     "data": {
      "text/html": [
       "<table>\n",
       "<tbody>\n",
       "\t<tr><td>0</td><td>0</td><td>0</td></tr>\n",
       "\t<tr><td>0</td><td>0</td><td>0</td></tr>\n",
       "\t<tr><td>0</td><td>0</td><td>0</td></tr>\n",
       "</tbody>\n",
       "</table>\n"
      ],
      "text/latex": [
       "\\begin{tabular}{lll}\n",
       "\t 0 & 0 & 0\\\\\n",
       "\t 0 & 0 & 0\\\\\n",
       "\t 0 & 0 & 0\\\\\n",
       "\\end{tabular}\n"
      ],
      "text/markdown": [
       "\n",
       "| 0 | 0 | 0 | \n",
       "| 0 | 0 | 0 | \n",
       "| 0 | 0 | 0 | \n",
       "\n",
       "\n"
      ],
      "text/plain": [
       "     [,1] [,2] [,3]\n",
       "[1,] 0    0    0   \n",
       "[2,] 0    0    0   \n",
       "[3,] 0    0    0   "
      ]
     },
     "metadata": {},
     "output_type": "display_data"
    },
    {
     "name": "stdout",
     "output_type": "stream",
     "text": [
      "[1] \"Thresholded dataframe before calculation\"\n"
     ]
    },
    {
     "data": {
      "text/html": [
       "<table>\n",
       "<tbody>\n",
       "\t<tr><td>0</td><td>0</td><td>0</td></tr>\n",
       "\t<tr><td>0</td><td>0</td><td>0</td></tr>\n",
       "\t<tr><td>0</td><td>0</td><td>0</td></tr>\n",
       "</tbody>\n",
       "</table>\n"
      ],
      "text/latex": [
       "\\begin{tabular}{lll}\n",
       "\t 0 & 0 & 0\\\\\n",
       "\t 0 & 0 & 0\\\\\n",
       "\t 0 & 0 & 0\\\\\n",
       "\\end{tabular}\n"
      ],
      "text/markdown": [
       "\n",
       "| 0 | 0 | 0 | \n",
       "| 0 | 0 | 0 | \n",
       "| 0 | 0 | 0 | \n",
       "\n",
       "\n"
      ],
      "text/plain": [
       "     [,1] [,2] [,3]\n",
       "[1,] 0    0    0   \n",
       "[2,] 0    0    0   \n",
       "[3,] 0    0    0   "
      ]
     },
     "metadata": {},
     "output_type": "display_data"
    },
    {
     "name": "stdout",
     "output_type": "stream",
     "text": [
      "[1] \"All data Structures after calculation\"\n",
      "[1] \"Incidence dataframe after calculation\"\n"
     ]
    },
    {
     "data": {
      "text/html": [
       "<table>\n",
       "<tbody>\n",
       "\t<tr><td>4</td><td>1</td><td>3</td></tr>\n",
       "\t<tr><td>1</td><td>4</td><td>1</td></tr>\n",
       "\t<tr><td>3</td><td>1</td><td>4</td></tr>\n",
       "</tbody>\n",
       "</table>\n"
      ],
      "text/latex": [
       "\\begin{tabular}{lll}\n",
       "\t 4 & 1 & 3\\\\\n",
       "\t 1 & 4 & 1\\\\\n",
       "\t 3 & 1 & 4\\\\\n",
       "\\end{tabular}\n"
      ],
      "text/markdown": [
       "\n",
       "| 4 | 1 | 3 | \n",
       "| 1 | 4 | 1 | \n",
       "| 3 | 1 | 4 | \n",
       "\n",
       "\n"
      ],
      "text/plain": [
       "     [,1] [,2] [,3]\n",
       "[1,] 4    1    3   \n",
       "[2,] 1    4    1   \n",
       "[3,] 3    1    4   "
      ]
     },
     "metadata": {},
     "output_type": "display_data"
    },
    {
     "name": "stdout",
     "output_type": "stream",
     "text": [
      "[1] \"Unthresholded dataframe after calculation\"\n"
     ]
    },
    {
     "data": {
      "text/html": [
       "<table>\n",
       "<tbody>\n",
       "\t<tr><td>0.00</td><td>0.25</td><td>0.75</td></tr>\n",
       "\t<tr><td>0.25</td><td>0.00</td><td>0.25</td></tr>\n",
       "\t<tr><td>0.75</td><td>0.25</td><td>0.00</td></tr>\n",
       "</tbody>\n",
       "</table>\n"
      ],
      "text/latex": [
       "\\begin{tabular}{lll}\n",
       "\t 0.00 & 0.25 & 0.75\\\\\n",
       "\t 0.25 & 0.00 & 0.25\\\\\n",
       "\t 0.75 & 0.25 & 0.00\\\\\n",
       "\\end{tabular}\n"
      ],
      "text/markdown": [
       "\n",
       "| 0.00 | 0.25 | 0.75 | \n",
       "| 0.25 | 0.00 | 0.25 | \n",
       "| 0.75 | 0.25 | 0.00 | \n",
       "\n",
       "\n"
      ],
      "text/plain": [
       "     [,1] [,2] [,3]\n",
       "[1,] 0.00 0.25 0.75\n",
       "[2,] 0.25 0.00 0.25\n",
       "[3,] 0.75 0.25 0.00"
      ]
     },
     "metadata": {},
     "output_type": "display_data"
    },
    {
     "name": "stdout",
     "output_type": "stream",
     "text": [
      "[1] \"Thresholded dataframe after calculation\"\n"
     ]
    },
    {
     "data": {
      "text/html": [
       "<table>\n",
       "<tbody>\n",
       "\t<tr><td>0</td><td>0</td><td>1</td></tr>\n",
       "\t<tr><td>0</td><td>0</td><td>0</td></tr>\n",
       "\t<tr><td>1</td><td>0</td><td>0</td></tr>\n",
       "</tbody>\n",
       "</table>\n"
      ],
      "text/latex": [
       "\\begin{tabular}{lll}\n",
       "\t 0 & 0 & 1\\\\\n",
       "\t 0 & 0 & 0\\\\\n",
       "\t 1 & 0 & 0\\\\\n",
       "\\end{tabular}\n"
      ],
      "text/markdown": [
       "\n",
       "| 0 | 0 | 1 | \n",
       "| 0 | 0 | 0 | \n",
       "| 1 | 0 | 0 | \n",
       "\n",
       "\n"
      ],
      "text/plain": [
       "     [,1] [,2] [,3]\n",
       "[1,] 0    0    1   \n",
       "[2,] 0    0    0   \n",
       "[3,] 1    0    0   "
      ]
     },
     "metadata": {},
     "output_type": "display_data"
    }
   ],
   "source": [
    "# Create a threshold variable \n",
    "thres <- .5\n",
    "\n",
    "# Create sample matrix to calculate \n",
    "B = matrix(c(1, 2, 3, 9, 3, 4, 5, 9, 1, 6, 3, 9), nrow=4, ncol=3)  \n",
    "\n",
    "C = data.frame(B)\n",
    "\n",
    "# Change to data frame, doesn't really matter but I use data frames in  my calculations below\n",
    "print('Example Dataframe');\n",
    "\n",
    "C\n",
    "\n",
    "# Create some data frame specific vars\n",
    "numRats <- ncol(C)\n",
    "numObs <- nrow(C)\n",
    "\n",
    "# Create matrices \n",
    "incidence <- diag(numObs, numRats)\n",
    "unthresholded <- diag(0, numRats)\n",
    "thresholded <- diag(0, numRats)\n",
    "\n",
    "print('All data Structures before calculation');\n",
    "\n",
    "print('Incidence dataframe before calculation')\n",
    "incidence \n",
    "print('Unthresholded dataframe before calculation')\n",
    "unthresholded\n",
    "print('Thresholded dataframe before calculation')\n",
    "thresholded\n",
    "\n",
    "# Fill incidence and thresholded matrices - Filling both the upper half of the square matrix to utilize as a adjacency matrix \n",
    "for (i in 1:(numRats-1)) {\n",
    "    for (j in i:numRats) {\n",
    "      # First example iteration will compare ALL of column 1 with column 1 Create True and False values \n",
    "      incidence[i,j] <- incidence[j,i] <- sum(B[,i] == B[,j])\n",
    "      unthresholded[i,j] <- unthresholded[j,i] <- incidence[i,j]/numObs #>= thres\n",
    "      thresholded[i,j] <- thresholded[j,i] <- incidence[i,j]/numObs >= thres\n",
    "    }\n",
    "}\n",
    "\n",
    "# Alter the datafram diagonal of the unthresholded and thresholded matrices to better perform social network calcs \n",
    "diag(unthresholded) = 0\n",
    "diag(thresholded) = 0\n",
    "\n",
    "print('All data Structures after calculation')\n",
    "\n",
    "print('Incidence dataframe after calculation')\n",
    "incidence \n",
    "print('Unthresholded dataframe after calculation')\n",
    "unthresholded\n",
    "print('Thresholded dataframe after calculation')\n",
    "thresholded\n",
    "\n"
   ]
  },
  {
   "cell_type": "markdown",
   "metadata": {},
   "source": [
    "# Real Rat Data Test Example - Window 728"
   ]
  },
  {
   "cell_type": "code",
   "execution_count": 42,
   "metadata": {
    "collapsed": false
   },
   "outputs": [
    {
     "name": "stdout",
     "output_type": "stream",
     "text": [
      "[1] \"All data Structures before calculation\"\n",
      "[1] \"Incidence dataframe before calculation\"\n"
     ]
    },
    {
     "data": {
      "text/html": [
       "<table>\n",
       "<tbody>\n",
       "\t<tr><td>903</td><td>  0</td><td>  0</td><td>  0</td><td>  0</td><td>  0</td><td>0  </td><td>0  </td><td>0  </td><td>0  </td><td>⋯  </td><td>0  </td><td>0  </td><td>0  </td><td>0  </td><td>0  </td><td>0  </td><td>0  </td><td>0  </td><td>0  </td><td>0  </td></tr>\n",
       "\t<tr><td>  0</td><td>903</td><td>  0</td><td>  0</td><td>  0</td><td>  0</td><td>0  </td><td>0  </td><td>0  </td><td>0  </td><td>⋯  </td><td>0  </td><td>0  </td><td>0  </td><td>0  </td><td>0  </td><td>0  </td><td>0  </td><td>0  </td><td>0  </td><td>0  </td></tr>\n",
       "\t<tr><td>  0</td><td>  0</td><td>903</td><td>  0</td><td>  0</td><td>  0</td><td>0  </td><td>0  </td><td>0  </td><td>0  </td><td>⋯  </td><td>0  </td><td>0  </td><td>0  </td><td>0  </td><td>0  </td><td>0  </td><td>0  </td><td>0  </td><td>0  </td><td>0  </td></tr>\n",
       "\t<tr><td>  0</td><td>  0</td><td>  0</td><td>903</td><td>  0</td><td>  0</td><td>0  </td><td>0  </td><td>0  </td><td>0  </td><td>⋯  </td><td>0  </td><td>0  </td><td>0  </td><td>0  </td><td>0  </td><td>0  </td><td>0  </td><td>0  </td><td>0  </td><td>0  </td></tr>\n",
       "\t<tr><td>  0</td><td>  0</td><td>  0</td><td>  0</td><td>903</td><td>  0</td><td>0  </td><td>0  </td><td>0  </td><td>0  </td><td>⋯  </td><td>0  </td><td>0  </td><td>0  </td><td>0  </td><td>0  </td><td>0  </td><td>0  </td><td>0  </td><td>0  </td><td>0  </td></tr>\n",
       "\t<tr><td>  0</td><td>  0</td><td>  0</td><td>  0</td><td>  0</td><td>903</td><td>0  </td><td>0  </td><td>0  </td><td>0  </td><td>⋯  </td><td>0  </td><td>0  </td><td>0  </td><td>0  </td><td>0  </td><td>0  </td><td>0  </td><td>0  </td><td>0  </td><td>0  </td></tr>\n",
       "</tbody>\n",
       "</table>\n"
      ],
      "text/latex": [
       "\\begin{tabular}{lllllllllllllllllllllllllllllllllllllllllllllllllllllllllll}\n",
       "\t 903 &   0 &   0 &   0 &   0 &   0 & 0   & 0   & 0   & 0   & ⋯   & 0   & 0   & 0   & 0   & 0   & 0   & 0   & 0   & 0   & 0  \\\\\n",
       "\t   0 & 903 &   0 &   0 &   0 &   0 & 0   & 0   & 0   & 0   & ⋯   & 0   & 0   & 0   & 0   & 0   & 0   & 0   & 0   & 0   & 0  \\\\\n",
       "\t   0 &   0 & 903 &   0 &   0 &   0 & 0   & 0   & 0   & 0   & ⋯   & 0   & 0   & 0   & 0   & 0   & 0   & 0   & 0   & 0   & 0  \\\\\n",
       "\t   0 &   0 &   0 & 903 &   0 &   0 & 0   & 0   & 0   & 0   & ⋯   & 0   & 0   & 0   & 0   & 0   & 0   & 0   & 0   & 0   & 0  \\\\\n",
       "\t   0 &   0 &   0 &   0 & 903 &   0 & 0   & 0   & 0   & 0   & ⋯   & 0   & 0   & 0   & 0   & 0   & 0   & 0   & 0   & 0   & 0  \\\\\n",
       "\t   0 &   0 &   0 &   0 &   0 & 903 & 0   & 0   & 0   & 0   & ⋯   & 0   & 0   & 0   & 0   & 0   & 0   & 0   & 0   & 0   & 0  \\\\\n",
       "\\end{tabular}\n"
      ],
      "text/markdown": [
       "\n",
       "| 903 |   0 |   0 |   0 |   0 |   0 | 0   | 0   | 0   | 0   | ⋯   | 0   | 0   | 0   | 0   | 0   | 0   | 0   | 0   | 0   | 0   | \n",
       "|   0 | 903 |   0 |   0 |   0 |   0 | 0   | 0   | 0   | 0   | ⋯   | 0   | 0   | 0   | 0   | 0   | 0   | 0   | 0   | 0   | 0   | \n",
       "|   0 |   0 | 903 |   0 |   0 |   0 | 0   | 0   | 0   | 0   | ⋯   | 0   | 0   | 0   | 0   | 0   | 0   | 0   | 0   | 0   | 0   | \n",
       "|   0 |   0 |   0 | 903 |   0 |   0 | 0   | 0   | 0   | 0   | ⋯   | 0   | 0   | 0   | 0   | 0   | 0   | 0   | 0   | 0   | 0   | \n",
       "|   0 |   0 |   0 |   0 | 903 |   0 | 0   | 0   | 0   | 0   | ⋯   | 0   | 0   | 0   | 0   | 0   | 0   | 0   | 0   | 0   | 0   | \n",
       "|   0 |   0 |   0 |   0 |   0 | 903 | 0   | 0   | 0   | 0   | ⋯   | 0   | 0   | 0   | 0   | 0   | 0   | 0   | 0   | 0   | 0   | \n",
       "\n",
       "\n"
      ],
      "text/plain": [
       "     [,1] [,2] [,3] [,4] [,5] [,6] [,7] [,8] [,9] [,10] [,11] [,12] [,13] [,14]\n",
       "[1,] 903    0    0    0    0    0  0    0    0    0     ⋯     0     0     0    \n",
       "[2,]   0  903    0    0    0    0  0    0    0    0     ⋯     0     0     0    \n",
       "[3,]   0    0  903    0    0    0  0    0    0    0     ⋯     0     0     0    \n",
       "[4,]   0    0    0  903    0    0  0    0    0    0     ⋯     0     0     0    \n",
       "[5,]   0    0    0    0  903    0  0    0    0    0     ⋯     0     0     0    \n",
       "[6,]   0    0    0    0    0  903  0    0    0    0     ⋯     0     0     0    \n",
       "     [,15] [,16] [,17] [,18] [,19] [,20] [,21]\n",
       "[1,] 0     0     0     0     0     0     0    \n",
       "[2,] 0     0     0     0     0     0     0    \n",
       "[3,] 0     0     0     0     0     0     0    \n",
       "[4,] 0     0     0     0     0     0     0    \n",
       "[5,] 0     0     0     0     0     0     0    \n",
       "[6,] 0     0     0     0     0     0     0    "
      ]
     },
     "metadata": {},
     "output_type": "display_data"
    },
    {
     "name": "stdout",
     "output_type": "stream",
     "text": [
      "[1] \"Unthresholded dataframe before calculation\"\n"
     ]
    },
    {
     "data": {
      "text/html": [
       "<table>\n",
       "<tbody>\n",
       "\t<tr><td>0</td><td>0</td><td>0</td><td>0</td><td>0</td><td>0</td><td>0</td><td>0</td><td>0</td><td>0</td><td>⋯</td><td>0</td><td>0</td><td>0</td><td>0</td><td>0</td><td>0</td><td>0</td><td>0</td><td>0</td><td>0</td></tr>\n",
       "\t<tr><td>0</td><td>0</td><td>0</td><td>0</td><td>0</td><td>0</td><td>0</td><td>0</td><td>0</td><td>0</td><td>⋯</td><td>0</td><td>0</td><td>0</td><td>0</td><td>0</td><td>0</td><td>0</td><td>0</td><td>0</td><td>0</td></tr>\n",
       "\t<tr><td>0</td><td>0</td><td>0</td><td>0</td><td>0</td><td>0</td><td>0</td><td>0</td><td>0</td><td>0</td><td>⋯</td><td>0</td><td>0</td><td>0</td><td>0</td><td>0</td><td>0</td><td>0</td><td>0</td><td>0</td><td>0</td></tr>\n",
       "\t<tr><td>0</td><td>0</td><td>0</td><td>0</td><td>0</td><td>0</td><td>0</td><td>0</td><td>0</td><td>0</td><td>⋯</td><td>0</td><td>0</td><td>0</td><td>0</td><td>0</td><td>0</td><td>0</td><td>0</td><td>0</td><td>0</td></tr>\n",
       "\t<tr><td>0</td><td>0</td><td>0</td><td>0</td><td>0</td><td>0</td><td>0</td><td>0</td><td>0</td><td>0</td><td>⋯</td><td>0</td><td>0</td><td>0</td><td>0</td><td>0</td><td>0</td><td>0</td><td>0</td><td>0</td><td>0</td></tr>\n",
       "\t<tr><td>0</td><td>0</td><td>0</td><td>0</td><td>0</td><td>0</td><td>0</td><td>0</td><td>0</td><td>0</td><td>⋯</td><td>0</td><td>0</td><td>0</td><td>0</td><td>0</td><td>0</td><td>0</td><td>0</td><td>0</td><td>0</td></tr>\n",
       "</tbody>\n",
       "</table>\n"
      ],
      "text/latex": [
       "\\begin{tabular}{lllllllllllllllllllllllllllllllllllllllllllllllllllllllllll}\n",
       "\t 0 & 0 & 0 & 0 & 0 & 0 & 0 & 0 & 0 & 0 & ⋯ & 0 & 0 & 0 & 0 & 0 & 0 & 0 & 0 & 0 & 0\\\\\n",
       "\t 0 & 0 & 0 & 0 & 0 & 0 & 0 & 0 & 0 & 0 & ⋯ & 0 & 0 & 0 & 0 & 0 & 0 & 0 & 0 & 0 & 0\\\\\n",
       "\t 0 & 0 & 0 & 0 & 0 & 0 & 0 & 0 & 0 & 0 & ⋯ & 0 & 0 & 0 & 0 & 0 & 0 & 0 & 0 & 0 & 0\\\\\n",
       "\t 0 & 0 & 0 & 0 & 0 & 0 & 0 & 0 & 0 & 0 & ⋯ & 0 & 0 & 0 & 0 & 0 & 0 & 0 & 0 & 0 & 0\\\\\n",
       "\t 0 & 0 & 0 & 0 & 0 & 0 & 0 & 0 & 0 & 0 & ⋯ & 0 & 0 & 0 & 0 & 0 & 0 & 0 & 0 & 0 & 0\\\\\n",
       "\t 0 & 0 & 0 & 0 & 0 & 0 & 0 & 0 & 0 & 0 & ⋯ & 0 & 0 & 0 & 0 & 0 & 0 & 0 & 0 & 0 & 0\\\\\n",
       "\\end{tabular}\n"
      ],
      "text/markdown": [
       "\n",
       "| 0 | 0 | 0 | 0 | 0 | 0 | 0 | 0 | 0 | 0 | ⋯ | 0 | 0 | 0 | 0 | 0 | 0 | 0 | 0 | 0 | 0 | \n",
       "| 0 | 0 | 0 | 0 | 0 | 0 | 0 | 0 | 0 | 0 | ⋯ | 0 | 0 | 0 | 0 | 0 | 0 | 0 | 0 | 0 | 0 | \n",
       "| 0 | 0 | 0 | 0 | 0 | 0 | 0 | 0 | 0 | 0 | ⋯ | 0 | 0 | 0 | 0 | 0 | 0 | 0 | 0 | 0 | 0 | \n",
       "| 0 | 0 | 0 | 0 | 0 | 0 | 0 | 0 | 0 | 0 | ⋯ | 0 | 0 | 0 | 0 | 0 | 0 | 0 | 0 | 0 | 0 | \n",
       "| 0 | 0 | 0 | 0 | 0 | 0 | 0 | 0 | 0 | 0 | ⋯ | 0 | 0 | 0 | 0 | 0 | 0 | 0 | 0 | 0 | 0 | \n",
       "| 0 | 0 | 0 | 0 | 0 | 0 | 0 | 0 | 0 | 0 | ⋯ | 0 | 0 | 0 | 0 | 0 | 0 | 0 | 0 | 0 | 0 | \n",
       "\n",
       "\n"
      ],
      "text/plain": [
       "     [,1] [,2] [,3] [,4] [,5] [,6] [,7] [,8] [,9] [,10] [,11] [,12] [,13] [,14]\n",
       "[1,] 0    0    0    0    0    0    0    0    0    0     ⋯     0     0     0    \n",
       "[2,] 0    0    0    0    0    0    0    0    0    0     ⋯     0     0     0    \n",
       "[3,] 0    0    0    0    0    0    0    0    0    0     ⋯     0     0     0    \n",
       "[4,] 0    0    0    0    0    0    0    0    0    0     ⋯     0     0     0    \n",
       "[5,] 0    0    0    0    0    0    0    0    0    0     ⋯     0     0     0    \n",
       "[6,] 0    0    0    0    0    0    0    0    0    0     ⋯     0     0     0    \n",
       "     [,15] [,16] [,17] [,18] [,19] [,20] [,21]\n",
       "[1,] 0     0     0     0     0     0     0    \n",
       "[2,] 0     0     0     0     0     0     0    \n",
       "[3,] 0     0     0     0     0     0     0    \n",
       "[4,] 0     0     0     0     0     0     0    \n",
       "[5,] 0     0     0     0     0     0     0    \n",
       "[6,] 0     0     0     0     0     0     0    "
      ]
     },
     "metadata": {},
     "output_type": "display_data"
    },
    {
     "name": "stdout",
     "output_type": "stream",
     "text": [
      "[1] \"Thresholded dataframe before calculation\"\n"
     ]
    },
    {
     "data": {
      "text/html": [
       "<table>\n",
       "<tbody>\n",
       "\t<tr><td>0</td><td>0</td><td>0</td><td>0</td><td>0</td><td>0</td><td>0</td><td>0</td><td>0</td><td>0</td><td>⋯</td><td>0</td><td>0</td><td>0</td><td>0</td><td>0</td><td>0</td><td>0</td><td>0</td><td>0</td><td>0</td></tr>\n",
       "\t<tr><td>0</td><td>0</td><td>0</td><td>0</td><td>0</td><td>0</td><td>0</td><td>0</td><td>0</td><td>0</td><td>⋯</td><td>0</td><td>0</td><td>0</td><td>0</td><td>0</td><td>0</td><td>0</td><td>0</td><td>0</td><td>0</td></tr>\n",
       "\t<tr><td>0</td><td>0</td><td>0</td><td>0</td><td>0</td><td>0</td><td>0</td><td>0</td><td>0</td><td>0</td><td>⋯</td><td>0</td><td>0</td><td>0</td><td>0</td><td>0</td><td>0</td><td>0</td><td>0</td><td>0</td><td>0</td></tr>\n",
       "\t<tr><td>0</td><td>0</td><td>0</td><td>0</td><td>0</td><td>0</td><td>0</td><td>0</td><td>0</td><td>0</td><td>⋯</td><td>0</td><td>0</td><td>0</td><td>0</td><td>0</td><td>0</td><td>0</td><td>0</td><td>0</td><td>0</td></tr>\n",
       "\t<tr><td>0</td><td>0</td><td>0</td><td>0</td><td>0</td><td>0</td><td>0</td><td>0</td><td>0</td><td>0</td><td>⋯</td><td>0</td><td>0</td><td>0</td><td>0</td><td>0</td><td>0</td><td>0</td><td>0</td><td>0</td><td>0</td></tr>\n",
       "\t<tr><td>0</td><td>0</td><td>0</td><td>0</td><td>0</td><td>0</td><td>0</td><td>0</td><td>0</td><td>0</td><td>⋯</td><td>0</td><td>0</td><td>0</td><td>0</td><td>0</td><td>0</td><td>0</td><td>0</td><td>0</td><td>0</td></tr>\n",
       "</tbody>\n",
       "</table>\n"
      ],
      "text/latex": [
       "\\begin{tabular}{lllllllllllllllllllllllllllllllllllllllllllllllllllllllllll}\n",
       "\t 0 & 0 & 0 & 0 & 0 & 0 & 0 & 0 & 0 & 0 & ⋯ & 0 & 0 & 0 & 0 & 0 & 0 & 0 & 0 & 0 & 0\\\\\n",
       "\t 0 & 0 & 0 & 0 & 0 & 0 & 0 & 0 & 0 & 0 & ⋯ & 0 & 0 & 0 & 0 & 0 & 0 & 0 & 0 & 0 & 0\\\\\n",
       "\t 0 & 0 & 0 & 0 & 0 & 0 & 0 & 0 & 0 & 0 & ⋯ & 0 & 0 & 0 & 0 & 0 & 0 & 0 & 0 & 0 & 0\\\\\n",
       "\t 0 & 0 & 0 & 0 & 0 & 0 & 0 & 0 & 0 & 0 & ⋯ & 0 & 0 & 0 & 0 & 0 & 0 & 0 & 0 & 0 & 0\\\\\n",
       "\t 0 & 0 & 0 & 0 & 0 & 0 & 0 & 0 & 0 & 0 & ⋯ & 0 & 0 & 0 & 0 & 0 & 0 & 0 & 0 & 0 & 0\\\\\n",
       "\t 0 & 0 & 0 & 0 & 0 & 0 & 0 & 0 & 0 & 0 & ⋯ & 0 & 0 & 0 & 0 & 0 & 0 & 0 & 0 & 0 & 0\\\\\n",
       "\\end{tabular}\n"
      ],
      "text/markdown": [
       "\n",
       "| 0 | 0 | 0 | 0 | 0 | 0 | 0 | 0 | 0 | 0 | ⋯ | 0 | 0 | 0 | 0 | 0 | 0 | 0 | 0 | 0 | 0 | \n",
       "| 0 | 0 | 0 | 0 | 0 | 0 | 0 | 0 | 0 | 0 | ⋯ | 0 | 0 | 0 | 0 | 0 | 0 | 0 | 0 | 0 | 0 | \n",
       "| 0 | 0 | 0 | 0 | 0 | 0 | 0 | 0 | 0 | 0 | ⋯ | 0 | 0 | 0 | 0 | 0 | 0 | 0 | 0 | 0 | 0 | \n",
       "| 0 | 0 | 0 | 0 | 0 | 0 | 0 | 0 | 0 | 0 | ⋯ | 0 | 0 | 0 | 0 | 0 | 0 | 0 | 0 | 0 | 0 | \n",
       "| 0 | 0 | 0 | 0 | 0 | 0 | 0 | 0 | 0 | 0 | ⋯ | 0 | 0 | 0 | 0 | 0 | 0 | 0 | 0 | 0 | 0 | \n",
       "| 0 | 0 | 0 | 0 | 0 | 0 | 0 | 0 | 0 | 0 | ⋯ | 0 | 0 | 0 | 0 | 0 | 0 | 0 | 0 | 0 | 0 | \n",
       "\n",
       "\n"
      ],
      "text/plain": [
       "     [,1] [,2] [,3] [,4] [,5] [,6] [,7] [,8] [,9] [,10] [,11] [,12] [,13] [,14]\n",
       "[1,] 0    0    0    0    0    0    0    0    0    0     ⋯     0     0     0    \n",
       "[2,] 0    0    0    0    0    0    0    0    0    0     ⋯     0     0     0    \n",
       "[3,] 0    0    0    0    0    0    0    0    0    0     ⋯     0     0     0    \n",
       "[4,] 0    0    0    0    0    0    0    0    0    0     ⋯     0     0     0    \n",
       "[5,] 0    0    0    0    0    0    0    0    0    0     ⋯     0     0     0    \n",
       "[6,] 0    0    0    0    0    0    0    0    0    0     ⋯     0     0     0    \n",
       "     [,15] [,16] [,17] [,18] [,19] [,20] [,21]\n",
       "[1,] 0     0     0     0     0     0     0    \n",
       "[2,] 0     0     0     0     0     0     0    \n",
       "[3,] 0     0     0     0     0     0     0    \n",
       "[4,] 0     0     0     0     0     0     0    \n",
       "[5,] 0     0     0     0     0     0     0    \n",
       "[6,] 0     0     0     0     0     0     0    "
      ]
     },
     "metadata": {},
     "output_type": "display_data"
    },
    {
     "name": "stdout",
     "output_type": "stream",
     "text": [
      "[1] \"All data Structures after calculation\"\n",
      "[1] \"Incidence dataframe after calculation\"\n"
     ]
    },
    {
     "data": {
      "text/html": [
       "<table>\n",
       "<tbody>\n",
       "\t<tr><td>903</td><td>510</td><td>  0</td><td>703</td><td> 16</td><td>703</td><td>175</td><td>703</td><td> 0 </td><td>703</td><td>⋯  </td><td>  0</td><td>  0</td><td>  0</td><td>703</td><td>  0</td><td>629</td><td>259</td><td>703</td><td>  0</td><td>  0</td></tr>\n",
       "\t<tr><td>510</td><td>903</td><td>287</td><td>505</td><td>293</td><td>505</td><td>462</td><td>505</td><td> 0 </td><td>505</td><td>⋯  </td><td>287</td><td>287</td><td>287</td><td>505</td><td>287</td><td>431</td><td>204</td><td>505</td><td>287</td><td>287</td></tr>\n",
       "\t<tr><td>  0</td><td>287</td><td>903</td><td>  0</td><td>381</td><td>  0</td><td>649</td><td>  0</td><td> 0 </td><td>  0</td><td>⋯  </td><td>903</td><td>903</td><td>903</td><td>  0</td><td>903</td><td>  0</td><td>244</td><td>  0</td><td>903</td><td>903</td></tr>\n",
       "\t<tr><td>703</td><td>505</td><td>  0</td><td>903</td><td> 16</td><td>903</td><td>175</td><td>903</td><td> 0 </td><td>903</td><td>⋯  </td><td>  0</td><td>  0</td><td>  0</td><td>903</td><td>  0</td><td>829</td><td>152</td><td>903</td><td>  0</td><td>  0</td></tr>\n",
       "\t<tr><td> 16</td><td>293</td><td>381</td><td> 16</td><td>903</td><td> 16</td><td>387</td><td> 16</td><td>28 </td><td> 16</td><td>⋯  </td><td>381</td><td>381</td><td>381</td><td> 16</td><td>381</td><td> 16</td><td>  0</td><td> 16</td><td>381</td><td>381</td></tr>\n",
       "\t<tr><td>703</td><td>505</td><td>  0</td><td>903</td><td> 16</td><td>903</td><td>175</td><td>903</td><td> 0 </td><td>903</td><td>⋯  </td><td>  0</td><td>  0</td><td>  0</td><td>903</td><td>  0</td><td>829</td><td>152</td><td>903</td><td>  0</td><td>  0</td></tr>\n",
       "</tbody>\n",
       "</table>\n"
      ],
      "text/latex": [
       "\\begin{tabular}{lllllllllllllllllllllllllllllllllllllllllllllllllllllllllll}\n",
       "\t 903 & 510 &   0 & 703 &  16 & 703 & 175 & 703 &  0  & 703 & ⋯   &   0 &   0 &   0 & 703 &   0 & 629 & 259 & 703 &   0 &   0\\\\\n",
       "\t 510 & 903 & 287 & 505 & 293 & 505 & 462 & 505 &  0  & 505 & ⋯   & 287 & 287 & 287 & 505 & 287 & 431 & 204 & 505 & 287 & 287\\\\\n",
       "\t   0 & 287 & 903 &   0 & 381 &   0 & 649 &   0 &  0  &   0 & ⋯   & 903 & 903 & 903 &   0 & 903 &   0 & 244 &   0 & 903 & 903\\\\\n",
       "\t 703 & 505 &   0 & 903 &  16 & 903 & 175 & 903 &  0  & 903 & ⋯   &   0 &   0 &   0 & 903 &   0 & 829 & 152 & 903 &   0 &   0\\\\\n",
       "\t  16 & 293 & 381 &  16 & 903 &  16 & 387 &  16 & 28  &  16 & ⋯   & 381 & 381 & 381 &  16 & 381 &  16 &   0 &  16 & 381 & 381\\\\\n",
       "\t 703 & 505 &   0 & 903 &  16 & 903 & 175 & 903 &  0  & 903 & ⋯   &   0 &   0 &   0 & 903 &   0 & 829 & 152 & 903 &   0 &   0\\\\\n",
       "\\end{tabular}\n"
      ],
      "text/markdown": [
       "\n",
       "| 903 | 510 |   0 | 703 |  16 | 703 | 175 | 703 |  0  | 703 | ⋯   |   0 |   0 |   0 | 703 |   0 | 629 | 259 | 703 |   0 |   0 | \n",
       "| 510 | 903 | 287 | 505 | 293 | 505 | 462 | 505 |  0  | 505 | ⋯   | 287 | 287 | 287 | 505 | 287 | 431 | 204 | 505 | 287 | 287 | \n",
       "|   0 | 287 | 903 |   0 | 381 |   0 | 649 |   0 |  0  |   0 | ⋯   | 903 | 903 | 903 |   0 | 903 |   0 | 244 |   0 | 903 | 903 | \n",
       "| 703 | 505 |   0 | 903 |  16 | 903 | 175 | 903 |  0  | 903 | ⋯   |   0 |   0 |   0 | 903 |   0 | 829 | 152 | 903 |   0 |   0 | \n",
       "|  16 | 293 | 381 |  16 | 903 |  16 | 387 |  16 | 28  |  16 | ⋯   | 381 | 381 | 381 |  16 | 381 |  16 |   0 |  16 | 381 | 381 | \n",
       "| 703 | 505 |   0 | 903 |  16 | 903 | 175 | 903 |  0  | 903 | ⋯   |   0 |   0 |   0 | 903 |   0 | 829 | 152 | 903 |   0 |   0 | \n",
       "\n",
       "\n"
      ],
      "text/plain": [
       "     [,1] [,2] [,3] [,4] [,5] [,6] [,7] [,8] [,9] [,10] [,11] [,12] [,13] [,14]\n",
       "[1,] 903  510    0  703   16  703  175  703   0   703   ⋯       0     0     0  \n",
       "[2,] 510  903  287  505  293  505  462  505   0   505   ⋯     287   287   287  \n",
       "[3,]   0  287  903    0  381    0  649    0   0     0   ⋯     903   903   903  \n",
       "[4,] 703  505    0  903   16  903  175  903   0   903   ⋯       0     0     0  \n",
       "[5,]  16  293  381   16  903   16  387   16  28    16   ⋯     381   381   381  \n",
       "[6,] 703  505    0  903   16  903  175  903   0   903   ⋯       0     0     0  \n",
       "     [,15] [,16] [,17] [,18] [,19] [,20] [,21]\n",
       "[1,] 703     0   629   259   703     0     0  \n",
       "[2,] 505   287   431   204   505   287   287  \n",
       "[3,]   0   903     0   244     0   903   903  \n",
       "[4,] 903     0   829   152   903     0     0  \n",
       "[5,]  16   381    16     0    16   381   381  \n",
       "[6,] 903     0   829   152   903     0     0  "
      ]
     },
     "metadata": {},
     "output_type": "display_data"
    },
    {
     "name": "stdout",
     "output_type": "stream",
     "text": [
      "[1] \"Unthresholded dataframe after calculation\"\n"
     ]
    },
    {
     "data": {
      "text/html": [
       "<table>\n",
       "<tbody>\n",
       "\t<tr><td>0.00000000</td><td>0.5647841 </td><td>0.0000000 </td><td>0.77851606</td><td>0.01771872</td><td>0.77851606</td><td>0.1937984 </td><td>0.77851606</td><td>0.00000000</td><td>0.77851606</td><td>⋯         </td><td>0.0000000 </td><td>0.0000000 </td><td>0.0000000 </td><td>0.77851606</td><td>0.0000000 </td><td>0.69656700</td><td>0.2868217 </td><td>0.77851606</td><td>0.0000000 </td><td>0.0000000 </td></tr>\n",
       "\t<tr><td>0.56478405</td><td>0.0000000 </td><td>0.3178295 </td><td>0.55924695</td><td>0.32447398</td><td>0.55924695</td><td>0.5116279 </td><td>0.55924695</td><td>0.00000000</td><td>0.55924695</td><td>⋯         </td><td>0.3178295 </td><td>0.3178295 </td><td>0.3178295 </td><td>0.55924695</td><td>0.3178295 </td><td>0.47729790</td><td>0.2259136 </td><td>0.55924695</td><td>0.3178295 </td><td>0.3178295 </td></tr>\n",
       "\t<tr><td>0.00000000</td><td>0.3178295 </td><td>0.0000000 </td><td>0.00000000</td><td>0.42192691</td><td>0.00000000</td><td>0.7187154 </td><td>0.00000000</td><td>0.00000000</td><td>0.00000000</td><td>⋯         </td><td>1.0000000 </td><td>1.0000000 </td><td>1.0000000 </td><td>0.00000000</td><td>1.0000000 </td><td>0.00000000</td><td>0.2702104 </td><td>0.00000000</td><td>1.0000000 </td><td>1.0000000 </td></tr>\n",
       "\t<tr><td>0.77851606</td><td>0.5592470 </td><td>0.0000000 </td><td>0.00000000</td><td>0.01771872</td><td>1.00000000</td><td>0.1937984 </td><td>1.00000000</td><td>0.00000000</td><td>1.00000000</td><td>⋯         </td><td>0.0000000 </td><td>0.0000000 </td><td>0.0000000 </td><td>1.00000000</td><td>0.0000000 </td><td>0.91805094</td><td>0.1683278 </td><td>1.00000000</td><td>0.0000000 </td><td>0.0000000 </td></tr>\n",
       "\t<tr><td>0.01771872</td><td>0.3244740 </td><td>0.4219269 </td><td>0.01771872</td><td>0.00000000</td><td>0.01771872</td><td>0.4285714 </td><td>0.01771872</td><td>0.03100775</td><td>0.01771872</td><td>⋯         </td><td>0.4219269 </td><td>0.4219269 </td><td>0.4219269 </td><td>0.01771872</td><td>0.4219269 </td><td>0.01771872</td><td>0.0000000 </td><td>0.01771872</td><td>0.4219269 </td><td>0.4219269 </td></tr>\n",
       "\t<tr><td>0.77851606</td><td>0.5592470 </td><td>0.0000000 </td><td>1.00000000</td><td>0.01771872</td><td>0.00000000</td><td>0.1937984 </td><td>1.00000000</td><td>0.00000000</td><td>1.00000000</td><td>⋯         </td><td>0.0000000 </td><td>0.0000000 </td><td>0.0000000 </td><td>1.00000000</td><td>0.0000000 </td><td>0.91805094</td><td>0.1683278 </td><td>1.00000000</td><td>0.0000000 </td><td>0.0000000 </td></tr>\n",
       "</tbody>\n",
       "</table>\n"
      ],
      "text/latex": [
       "\\begin{tabular}{lllllllllllllllllllllllllllllllllllllllllllllllllllllllllll}\n",
       "\t 0.00000000 & 0.5647841  & 0.0000000  & 0.77851606 & 0.01771872 & 0.77851606 & 0.1937984  & 0.77851606 & 0.00000000 & 0.77851606 & ⋯          & 0.0000000  & 0.0000000  & 0.0000000  & 0.77851606 & 0.0000000  & 0.69656700 & 0.2868217  & 0.77851606 & 0.0000000  & 0.0000000 \\\\\n",
       "\t 0.56478405 & 0.0000000  & 0.3178295  & 0.55924695 & 0.32447398 & 0.55924695 & 0.5116279  & 0.55924695 & 0.00000000 & 0.55924695 & ⋯          & 0.3178295  & 0.3178295  & 0.3178295  & 0.55924695 & 0.3178295  & 0.47729790 & 0.2259136  & 0.55924695 & 0.3178295  & 0.3178295 \\\\\n",
       "\t 0.00000000 & 0.3178295  & 0.0000000  & 0.00000000 & 0.42192691 & 0.00000000 & 0.7187154  & 0.00000000 & 0.00000000 & 0.00000000 & ⋯          & 1.0000000  & 1.0000000  & 1.0000000  & 0.00000000 & 1.0000000  & 0.00000000 & 0.2702104  & 0.00000000 & 1.0000000  & 1.0000000 \\\\\n",
       "\t 0.77851606 & 0.5592470  & 0.0000000  & 0.00000000 & 0.01771872 & 1.00000000 & 0.1937984  & 1.00000000 & 0.00000000 & 1.00000000 & ⋯          & 0.0000000  & 0.0000000  & 0.0000000  & 1.00000000 & 0.0000000  & 0.91805094 & 0.1683278  & 1.00000000 & 0.0000000  & 0.0000000 \\\\\n",
       "\t 0.01771872 & 0.3244740  & 0.4219269  & 0.01771872 & 0.00000000 & 0.01771872 & 0.4285714  & 0.01771872 & 0.03100775 & 0.01771872 & ⋯          & 0.4219269  & 0.4219269  & 0.4219269  & 0.01771872 & 0.4219269  & 0.01771872 & 0.0000000  & 0.01771872 & 0.4219269  & 0.4219269 \\\\\n",
       "\t 0.77851606 & 0.5592470  & 0.0000000  & 1.00000000 & 0.01771872 & 0.00000000 & 0.1937984  & 1.00000000 & 0.00000000 & 1.00000000 & ⋯          & 0.0000000  & 0.0000000  & 0.0000000  & 1.00000000 & 0.0000000  & 0.91805094 & 0.1683278  & 1.00000000 & 0.0000000  & 0.0000000 \\\\\n",
       "\\end{tabular}\n"
      ],
      "text/markdown": [
       "\n",
       "| 0.00000000 | 0.5647841  | 0.0000000  | 0.77851606 | 0.01771872 | 0.77851606 | 0.1937984  | 0.77851606 | 0.00000000 | 0.77851606 | ⋯          | 0.0000000  | 0.0000000  | 0.0000000  | 0.77851606 | 0.0000000  | 0.69656700 | 0.2868217  | 0.77851606 | 0.0000000  | 0.0000000  | \n",
       "| 0.56478405 | 0.0000000  | 0.3178295  | 0.55924695 | 0.32447398 | 0.55924695 | 0.5116279  | 0.55924695 | 0.00000000 | 0.55924695 | ⋯          | 0.3178295  | 0.3178295  | 0.3178295  | 0.55924695 | 0.3178295  | 0.47729790 | 0.2259136  | 0.55924695 | 0.3178295  | 0.3178295  | \n",
       "| 0.00000000 | 0.3178295  | 0.0000000  | 0.00000000 | 0.42192691 | 0.00000000 | 0.7187154  | 0.00000000 | 0.00000000 | 0.00000000 | ⋯          | 1.0000000  | 1.0000000  | 1.0000000  | 0.00000000 | 1.0000000  | 0.00000000 | 0.2702104  | 0.00000000 | 1.0000000  | 1.0000000  | \n",
       "| 0.77851606 | 0.5592470  | 0.0000000  | 0.00000000 | 0.01771872 | 1.00000000 | 0.1937984  | 1.00000000 | 0.00000000 | 1.00000000 | ⋯          | 0.0000000  | 0.0000000  | 0.0000000  | 1.00000000 | 0.0000000  | 0.91805094 | 0.1683278  | 1.00000000 | 0.0000000  | 0.0000000  | \n",
       "| 0.01771872 | 0.3244740  | 0.4219269  | 0.01771872 | 0.00000000 | 0.01771872 | 0.4285714  | 0.01771872 | 0.03100775 | 0.01771872 | ⋯          | 0.4219269  | 0.4219269  | 0.4219269  | 0.01771872 | 0.4219269  | 0.01771872 | 0.0000000  | 0.01771872 | 0.4219269  | 0.4219269  | \n",
       "| 0.77851606 | 0.5592470  | 0.0000000  | 1.00000000 | 0.01771872 | 0.00000000 | 0.1937984  | 1.00000000 | 0.00000000 | 1.00000000 | ⋯          | 0.0000000  | 0.0000000  | 0.0000000  | 1.00000000 | 0.0000000  | 0.91805094 | 0.1683278  | 1.00000000 | 0.0000000  | 0.0000000  | \n",
       "\n",
       "\n"
      ],
      "text/plain": [
       "     [,1]       [,2]      [,3]      [,4]       [,5]       [,6]       [,7]     \n",
       "[1,] 0.00000000 0.5647841 0.0000000 0.77851606 0.01771872 0.77851606 0.1937984\n",
       "[2,] 0.56478405 0.0000000 0.3178295 0.55924695 0.32447398 0.55924695 0.5116279\n",
       "[3,] 0.00000000 0.3178295 0.0000000 0.00000000 0.42192691 0.00000000 0.7187154\n",
       "[4,] 0.77851606 0.5592470 0.0000000 0.00000000 0.01771872 1.00000000 0.1937984\n",
       "[5,] 0.01771872 0.3244740 0.4219269 0.01771872 0.00000000 0.01771872 0.4285714\n",
       "[6,] 0.77851606 0.5592470 0.0000000 1.00000000 0.01771872 0.00000000 0.1937984\n",
       "     [,8]       [,9]       [,10]      [,11] [,12]     [,13]     [,14]    \n",
       "[1,] 0.77851606 0.00000000 0.77851606 ⋯     0.0000000 0.0000000 0.0000000\n",
       "[2,] 0.55924695 0.00000000 0.55924695 ⋯     0.3178295 0.3178295 0.3178295\n",
       "[3,] 0.00000000 0.00000000 0.00000000 ⋯     1.0000000 1.0000000 1.0000000\n",
       "[4,] 1.00000000 0.00000000 1.00000000 ⋯     0.0000000 0.0000000 0.0000000\n",
       "[5,] 0.01771872 0.03100775 0.01771872 ⋯     0.4219269 0.4219269 0.4219269\n",
       "[6,] 1.00000000 0.00000000 1.00000000 ⋯     0.0000000 0.0000000 0.0000000\n",
       "     [,15]      [,16]     [,17]      [,18]     [,19]      [,20]     [,21]    \n",
       "[1,] 0.77851606 0.0000000 0.69656700 0.2868217 0.77851606 0.0000000 0.0000000\n",
       "[2,] 0.55924695 0.3178295 0.47729790 0.2259136 0.55924695 0.3178295 0.3178295\n",
       "[3,] 0.00000000 1.0000000 0.00000000 0.2702104 0.00000000 1.0000000 1.0000000\n",
       "[4,] 1.00000000 0.0000000 0.91805094 0.1683278 1.00000000 0.0000000 0.0000000\n",
       "[5,] 0.01771872 0.4219269 0.01771872 0.0000000 0.01771872 0.4219269 0.4219269\n",
       "[6,] 1.00000000 0.0000000 0.91805094 0.1683278 1.00000000 0.0000000 0.0000000"
      ]
     },
     "metadata": {},
     "output_type": "display_data"
    },
    {
     "name": "stdout",
     "output_type": "stream",
     "text": [
      "[1] \"Thresholded dataframe after calculation\"\n"
     ]
    },
    {
     "data": {
      "text/html": [
       "<table>\n",
       "<tbody>\n",
       "\t<tr><td>0</td><td>1</td><td>0</td><td>1</td><td>0</td><td>1</td><td>0</td><td>1</td><td>0</td><td>1</td><td>⋯</td><td>0</td><td>0</td><td>0</td><td>1</td><td>0</td><td>1</td><td>0</td><td>1</td><td>0</td><td>0</td></tr>\n",
       "\t<tr><td>1</td><td>0</td><td>0</td><td>1</td><td>0</td><td>1</td><td>1</td><td>1</td><td>0</td><td>1</td><td>⋯</td><td>0</td><td>0</td><td>0</td><td>1</td><td>0</td><td>0</td><td>0</td><td>1</td><td>0</td><td>0</td></tr>\n",
       "\t<tr><td>0</td><td>0</td><td>0</td><td>0</td><td>0</td><td>0</td><td>1</td><td>0</td><td>0</td><td>0</td><td>⋯</td><td>1</td><td>1</td><td>1</td><td>0</td><td>1</td><td>0</td><td>0</td><td>0</td><td>1</td><td>1</td></tr>\n",
       "\t<tr><td>1</td><td>1</td><td>0</td><td>0</td><td>0</td><td>1</td><td>0</td><td>1</td><td>0</td><td>1</td><td>⋯</td><td>0</td><td>0</td><td>0</td><td>1</td><td>0</td><td>1</td><td>0</td><td>1</td><td>0</td><td>0</td></tr>\n",
       "\t<tr><td>0</td><td>0</td><td>0</td><td>0</td><td>0</td><td>0</td><td>0</td><td>0</td><td>0</td><td>0</td><td>⋯</td><td>0</td><td>0</td><td>0</td><td>0</td><td>0</td><td>0</td><td>0</td><td>0</td><td>0</td><td>0</td></tr>\n",
       "\t<tr><td>1</td><td>1</td><td>0</td><td>1</td><td>0</td><td>0</td><td>0</td><td>1</td><td>0</td><td>1</td><td>⋯</td><td>0</td><td>0</td><td>0</td><td>1</td><td>0</td><td>1</td><td>0</td><td>1</td><td>0</td><td>0</td></tr>\n",
       "</tbody>\n",
       "</table>\n"
      ],
      "text/latex": [
       "\\begin{tabular}{lllllllllllllllllllllllllllllllllllllllllllllllllllllllllll}\n",
       "\t 0 & 1 & 0 & 1 & 0 & 1 & 0 & 1 & 0 & 1 & ⋯ & 0 & 0 & 0 & 1 & 0 & 1 & 0 & 1 & 0 & 0\\\\\n",
       "\t 1 & 0 & 0 & 1 & 0 & 1 & 1 & 1 & 0 & 1 & ⋯ & 0 & 0 & 0 & 1 & 0 & 0 & 0 & 1 & 0 & 0\\\\\n",
       "\t 0 & 0 & 0 & 0 & 0 & 0 & 1 & 0 & 0 & 0 & ⋯ & 1 & 1 & 1 & 0 & 1 & 0 & 0 & 0 & 1 & 1\\\\\n",
       "\t 1 & 1 & 0 & 0 & 0 & 1 & 0 & 1 & 0 & 1 & ⋯ & 0 & 0 & 0 & 1 & 0 & 1 & 0 & 1 & 0 & 0\\\\\n",
       "\t 0 & 0 & 0 & 0 & 0 & 0 & 0 & 0 & 0 & 0 & ⋯ & 0 & 0 & 0 & 0 & 0 & 0 & 0 & 0 & 0 & 0\\\\\n",
       "\t 1 & 1 & 0 & 1 & 0 & 0 & 0 & 1 & 0 & 1 & ⋯ & 0 & 0 & 0 & 1 & 0 & 1 & 0 & 1 & 0 & 0\\\\\n",
       "\\end{tabular}\n"
      ],
      "text/markdown": [
       "\n",
       "| 0 | 1 | 0 | 1 | 0 | 1 | 0 | 1 | 0 | 1 | ⋯ | 0 | 0 | 0 | 1 | 0 | 1 | 0 | 1 | 0 | 0 | \n",
       "| 1 | 0 | 0 | 1 | 0 | 1 | 1 | 1 | 0 | 1 | ⋯ | 0 | 0 | 0 | 1 | 0 | 0 | 0 | 1 | 0 | 0 | \n",
       "| 0 | 0 | 0 | 0 | 0 | 0 | 1 | 0 | 0 | 0 | ⋯ | 1 | 1 | 1 | 0 | 1 | 0 | 0 | 0 | 1 | 1 | \n",
       "| 1 | 1 | 0 | 0 | 0 | 1 | 0 | 1 | 0 | 1 | ⋯ | 0 | 0 | 0 | 1 | 0 | 1 | 0 | 1 | 0 | 0 | \n",
       "| 0 | 0 | 0 | 0 | 0 | 0 | 0 | 0 | 0 | 0 | ⋯ | 0 | 0 | 0 | 0 | 0 | 0 | 0 | 0 | 0 | 0 | \n",
       "| 1 | 1 | 0 | 1 | 0 | 0 | 0 | 1 | 0 | 1 | ⋯ | 0 | 0 | 0 | 1 | 0 | 1 | 0 | 1 | 0 | 0 | \n",
       "\n",
       "\n"
      ],
      "text/plain": [
       "     [,1] [,2] [,3] [,4] [,5] [,6] [,7] [,8] [,9] [,10] [,11] [,12] [,13] [,14]\n",
       "[1,] 0    1    0    1    0    1    0    1    0    1     ⋯     0     0     0    \n",
       "[2,] 1    0    0    1    0    1    1    1    0    1     ⋯     0     0     0    \n",
       "[3,] 0    0    0    0    0    0    1    0    0    0     ⋯     1     1     1    \n",
       "[4,] 1    1    0    0    0    1    0    1    0    1     ⋯     0     0     0    \n",
       "[5,] 0    0    0    0    0    0    0    0    0    0     ⋯     0     0     0    \n",
       "[6,] 1    1    0    1    0    0    0    1    0    1     ⋯     0     0     0    \n",
       "     [,15] [,16] [,17] [,18] [,19] [,20] [,21]\n",
       "[1,] 1     0     1     0     1     0     0    \n",
       "[2,] 1     0     0     0     1     0     0    \n",
       "[3,] 0     1     0     0     0     1     1    \n",
       "[4,] 1     0     1     0     1     0     0    \n",
       "[5,] 0     0     0     0     0     0     0    \n",
       "[6,] 1     0     1     0     1     0     0    "
      ]
     },
     "metadata": {},
     "output_type": "display_data"
    }
   ],
   "source": [
    "# Establish working directory\n",
    "workingDir <- \"/home/zackymo/Desktop/Sample\"\n",
    "setwd(workingDir)\n",
    "\n",
    "# Next Line for debugging purposes \n",
    "file <- \"5-14-2014streamW728PPstate.txt\"\n",
    "\n",
    "# This statement automagically reads the data into a dataframe \n",
    "df <- read.table(file)\n",
    "\n",
    "# Create some data frame specific vars\n",
    "numRats <- ncol(df)\n",
    "numObs <- nrow(df)\n",
    "\n",
    "# Create matrices \n",
    "incidence <- diag(numObs, numRats)\n",
    "unthresholded <- diag(0, numRats)\n",
    "thresholded <- diag(0, numRats)\n",
    "\n",
    "# Logging Info \n",
    "print('All data Structures before calculation');\n",
    "\n",
    "print('Incidence dataframe before calculation')\n",
    "head(incidence) \n",
    "print('Unthresholded dataframe before calculation')\n",
    "head(unthresholded)\n",
    "print('Thresholded dataframe before calculation')\n",
    "head(thresholded)\n",
    "\n",
    "# Fill incidence and thresholded matrices \n",
    "for (i in 1:(numRats-1)) {\n",
    "    for (j in i:numRats) {\n",
    "      # First example iteration will compare ALL of column 1 with column 1, \n",
    "      # generate True and False values for these columns, then count the True and False values and put that into the \n",
    "      # designated row in the incidence matrix, the next iteration will compare ALL of column 1 with column 2 \n",
    "      incidence[i,j] <- incidence[j,i] <- sum(df[,i] == df[,j])\n",
    "      unthresholded[i,j] <- unthresholded[j,i] <- incidence[i,j]/numObs #>= thres\n",
    "      thresholded[i,j] <- thresholded[j,i] <- incidence[i,j]/numObs >= thres\n",
    "    }\n",
    "}\n",
    "\n",
    "# Alter the datafram diagonal of the unthresholded and thresholded matrices to better perform social network calcs \n",
    "diag(unthresholded) = 0\n",
    "diag(thresholded) = 0\n",
    "\n",
    "print('All data Structures after calculation')\n",
    "\n",
    "print('Incidence dataframe after calculation')\n",
    "head(incidence) \n",
    "print('Unthresholded dataframe after calculation')\n",
    "head(unthresholded)\n",
    "print('Thresholded dataframe after calculation')\n",
    "head(thresholded)\n"
   ]
  },
  {
   "cell_type": "markdown",
   "metadata": {},
   "source": [
    "# Dr. Kress Calcs  - My unthresholded data frame after calcs is different from your  (yours is ontop, and mine is seen below) - Would you mind verifying your matrix calculation"
   ]
  },
  {
   "cell_type": "code",
   "execution_count": 48,
   "metadata": {
    "collapsed": false
   },
   "outputs": [
    {
     "name": "stdout",
     "output_type": "stream",
     "text": [
      "[1] \"Dr. Kress Calcs\"\n"
     ]
    },
    {
     "data": {
      "text/html": [
       "<table>\n",
       "<thead><tr><th scope=col>X</th><th scope=col>V1</th><th scope=col>V2</th><th scope=col>V3</th><th scope=col>V4</th><th scope=col>V5</th><th scope=col>V6</th><th scope=col>V7</th><th scope=col>V8</th><th scope=col>V9</th><th scope=col>⋯</th><th scope=col>V50</th><th scope=col>V51</th><th scope=col>V52</th><th scope=col>V53</th><th scope=col>V54</th><th scope=col>V55</th><th scope=col>V56</th><th scope=col>V57</th><th scope=col>V58</th><th scope=col>V59</th></tr></thead>\n",
       "<tbody>\n",
       "\t<tr><td>1          </td><td>0.000000000</td><td>0.6647222  </td><td>0.0000000  </td><td>0.826694444</td><td>0.008025556</td><td>0.826694444</td><td>0.1836778  </td><td>0.826694444</td><td>0.00000000 </td><td>⋯          </td><td>0.0000000  </td><td>0.0000000  </td><td>0.0000000  </td><td>0.826694444</td><td>0.0000000  </td><td>0.808111111</td><td>0.4026389  </td><td>0.826694444</td><td>0.0000000  </td><td>0.0000000  </td></tr>\n",
       "\t<tr><td>2          </td><td>0.664722222</td><td>0.0000000  </td><td>0.1974361  </td><td>0.650194444</td><td>0.201388889</td><td>0.650194444</td><td>0.3811111  </td><td>0.650194444</td><td>0.00000000 </td><td>⋯          </td><td>0.1974361  </td><td>0.1974361  </td><td>0.1974361  </td><td>0.650194444</td><td>0.1974361  </td><td>0.631583333</td><td>0.3134722  </td><td>0.650194444</td><td>0.1974361  </td><td>0.1974361  </td></tr>\n",
       "\t<tr><td>3          </td><td>0.000000000</td><td>0.1974361  </td><td>0.0000000  </td><td>0.000000000</td><td>0.333500000</td><td>0.000000000</td><td>0.6620278  </td><td>0.000000000</td><td>0.00000000 </td><td>⋯          </td><td>1.0000000  </td><td>1.0000000  </td><td>1.0000000  </td><td>0.000000000</td><td>1.0000000  </td><td>0.000000000</td><td>0.3425000  </td><td>0.000000000</td><td>1.0000000  </td><td>1.0000000  </td></tr>\n",
       "\t<tr><td>4          </td><td>0.826694444</td><td>0.6501944  </td><td>0.0000000  </td><td>0.000000000</td><td>0.008025556</td><td>1.000000000</td><td>0.1836778  </td><td>1.000000000</td><td>0.00000000 </td><td>⋯          </td><td>0.0000000  </td><td>0.0000000  </td><td>0.0000000  </td><td>1.000000000</td><td>0.0000000  </td><td>0.981388889</td><td>0.2660500  </td><td>1.000000000</td><td>0.0000000  </td><td>0.0000000  </td></tr>\n",
       "\t<tr><td>5          </td><td>0.008025556</td><td>0.2013889  </td><td>0.3335000  </td><td>0.008025556</td><td>0.000000000</td><td>0.008025556</td><td>0.3344722  </td><td>0.008025556</td><td>0.01007083 </td><td>⋯          </td><td>0.3335000  </td><td>0.3335000  </td><td>0.3335000  </td><td>0.008025556</td><td>0.3335000  </td><td>0.008025556</td><td>0.0000000  </td><td>0.008025556</td><td>0.3335000  </td><td>0.3335000  </td></tr>\n",
       "\t<tr><td>6          </td><td>0.826694444</td><td>0.6501944  </td><td>0.0000000  </td><td>1.000000000</td><td>0.008025556</td><td>0.000000000</td><td>0.1836778  </td><td>1.000000000</td><td>0.00000000 </td><td>⋯          </td><td>0.0000000  </td><td>0.0000000  </td><td>0.0000000  </td><td>1.000000000</td><td>0.0000000  </td><td>0.981388889</td><td>0.2660500  </td><td>1.000000000</td><td>0.0000000  </td><td>0.0000000  </td></tr>\n",
       "</tbody>\n",
       "</table>\n"
      ],
      "text/latex": [
       "\\begin{tabular}{r|llllllllllllllllllllllllllllllllllllllllllllllllllllllllllll}\n",
       " X & V1 & V2 & V3 & V4 & V5 & V6 & V7 & V8 & V9 & ⋯ & V50 & V51 & V52 & V53 & V54 & V55 & V56 & V57 & V58 & V59\\\\\n",
       "\\hline\n",
       "\t 1           & 0.000000000 & 0.6647222   & 0.0000000   & 0.826694444 & 0.008025556 & 0.826694444 & 0.1836778   & 0.826694444 & 0.00000000  & ⋯           & 0.0000000   & 0.0000000   & 0.0000000   & 0.826694444 & 0.0000000   & 0.808111111 & 0.4026389   & 0.826694444 & 0.0000000   & 0.0000000  \\\\\n",
       "\t 2           & 0.664722222 & 0.0000000   & 0.1974361   & 0.650194444 & 0.201388889 & 0.650194444 & 0.3811111   & 0.650194444 & 0.00000000  & ⋯           & 0.1974361   & 0.1974361   & 0.1974361   & 0.650194444 & 0.1974361   & 0.631583333 & 0.3134722   & 0.650194444 & 0.1974361   & 0.1974361  \\\\\n",
       "\t 3           & 0.000000000 & 0.1974361   & 0.0000000   & 0.000000000 & 0.333500000 & 0.000000000 & 0.6620278   & 0.000000000 & 0.00000000  & ⋯           & 1.0000000   & 1.0000000   & 1.0000000   & 0.000000000 & 1.0000000   & 0.000000000 & 0.3425000   & 0.000000000 & 1.0000000   & 1.0000000  \\\\\n",
       "\t 4           & 0.826694444 & 0.6501944   & 0.0000000   & 0.000000000 & 0.008025556 & 1.000000000 & 0.1836778   & 1.000000000 & 0.00000000  & ⋯           & 0.0000000   & 0.0000000   & 0.0000000   & 1.000000000 & 0.0000000   & 0.981388889 & 0.2660500   & 1.000000000 & 0.0000000   & 0.0000000  \\\\\n",
       "\t 5           & 0.008025556 & 0.2013889   & 0.3335000   & 0.008025556 & 0.000000000 & 0.008025556 & 0.3344722   & 0.008025556 & 0.01007083  & ⋯           & 0.3335000   & 0.3335000   & 0.3335000   & 0.008025556 & 0.3335000   & 0.008025556 & 0.0000000   & 0.008025556 & 0.3335000   & 0.3335000  \\\\\n",
       "\t 6           & 0.826694444 & 0.6501944   & 0.0000000   & 1.000000000 & 0.008025556 & 0.000000000 & 0.1836778   & 1.000000000 & 0.00000000  & ⋯           & 0.0000000   & 0.0000000   & 0.0000000   & 1.000000000 & 0.0000000   & 0.981388889 & 0.2660500   & 1.000000000 & 0.0000000   & 0.0000000  \\\\\n",
       "\\end{tabular}\n"
      ],
      "text/markdown": [
       "\n",
       "X | V1 | V2 | V3 | V4 | V5 | V6 | V7 | V8 | V9 | ⋯ | V50 | V51 | V52 | V53 | V54 | V55 | V56 | V57 | V58 | V59 | \n",
       "|---|---|---|---|---|---|\n",
       "| 1           | 0.000000000 | 0.6647222   | 0.0000000   | 0.826694444 | 0.008025556 | 0.826694444 | 0.1836778   | 0.826694444 | 0.00000000  | ⋯           | 0.0000000   | 0.0000000   | 0.0000000   | 0.826694444 | 0.0000000   | 0.808111111 | 0.4026389   | 0.826694444 | 0.0000000   | 0.0000000   | \n",
       "| 2           | 0.664722222 | 0.0000000   | 0.1974361   | 0.650194444 | 0.201388889 | 0.650194444 | 0.3811111   | 0.650194444 | 0.00000000  | ⋯           | 0.1974361   | 0.1974361   | 0.1974361   | 0.650194444 | 0.1974361   | 0.631583333 | 0.3134722   | 0.650194444 | 0.1974361   | 0.1974361   | \n",
       "| 3           | 0.000000000 | 0.1974361   | 0.0000000   | 0.000000000 | 0.333500000 | 0.000000000 | 0.6620278   | 0.000000000 | 0.00000000  | ⋯           | 1.0000000   | 1.0000000   | 1.0000000   | 0.000000000 | 1.0000000   | 0.000000000 | 0.3425000   | 0.000000000 | 1.0000000   | 1.0000000   | \n",
       "| 4           | 0.826694444 | 0.6501944   | 0.0000000   | 0.000000000 | 0.008025556 | 1.000000000 | 0.1836778   | 1.000000000 | 0.00000000  | ⋯           | 0.0000000   | 0.0000000   | 0.0000000   | 1.000000000 | 0.0000000   | 0.981388889 | 0.2660500   | 1.000000000 | 0.0000000   | 0.0000000   | \n",
       "| 5           | 0.008025556 | 0.2013889   | 0.3335000   | 0.008025556 | 0.000000000 | 0.008025556 | 0.3344722   | 0.008025556 | 0.01007083  | ⋯           | 0.3335000   | 0.3335000   | 0.3335000   | 0.008025556 | 0.3335000   | 0.008025556 | 0.0000000   | 0.008025556 | 0.3335000   | 0.3335000   | \n",
       "| 6           | 0.826694444 | 0.6501944   | 0.0000000   | 1.000000000 | 0.008025556 | 0.000000000 | 0.1836778   | 1.000000000 | 0.00000000  | ⋯           | 0.0000000   | 0.0000000   | 0.0000000   | 1.000000000 | 0.0000000   | 0.981388889 | 0.2660500   | 1.000000000 | 0.0000000   | 0.0000000   | \n",
       "\n",
       "\n"
      ],
      "text/plain": [
       "  X V1          V2        V3        V4          V5          V6         \n",
       "1 1 0.000000000 0.6647222 0.0000000 0.826694444 0.008025556 0.826694444\n",
       "2 2 0.664722222 0.0000000 0.1974361 0.650194444 0.201388889 0.650194444\n",
       "3 3 0.000000000 0.1974361 0.0000000 0.000000000 0.333500000 0.000000000\n",
       "4 4 0.826694444 0.6501944 0.0000000 0.000000000 0.008025556 1.000000000\n",
       "5 5 0.008025556 0.2013889 0.3335000 0.008025556 0.000000000 0.008025556\n",
       "6 6 0.826694444 0.6501944 0.0000000 1.000000000 0.008025556 0.000000000\n",
       "  V7        V8          V9         ⋯ V50       V51       V52       V53        \n",
       "1 0.1836778 0.826694444 0.00000000 ⋯ 0.0000000 0.0000000 0.0000000 0.826694444\n",
       "2 0.3811111 0.650194444 0.00000000 ⋯ 0.1974361 0.1974361 0.1974361 0.650194444\n",
       "3 0.6620278 0.000000000 0.00000000 ⋯ 1.0000000 1.0000000 1.0000000 0.000000000\n",
       "4 0.1836778 1.000000000 0.00000000 ⋯ 0.0000000 0.0000000 0.0000000 1.000000000\n",
       "5 0.3344722 0.008025556 0.01007083 ⋯ 0.3335000 0.3335000 0.3335000 0.008025556\n",
       "6 0.1836778 1.000000000 0.00000000 ⋯ 0.0000000 0.0000000 0.0000000 1.000000000\n",
       "  V54       V55         V56       V57         V58       V59      \n",
       "1 0.0000000 0.808111111 0.4026389 0.826694444 0.0000000 0.0000000\n",
       "2 0.1974361 0.631583333 0.3134722 0.650194444 0.1974361 0.1974361\n",
       "3 1.0000000 0.000000000 0.3425000 0.000000000 1.0000000 1.0000000\n",
       "4 0.0000000 0.981388889 0.2660500 1.000000000 0.0000000 0.0000000\n",
       "5 0.3335000 0.008025556 0.0000000 0.008025556 0.3335000 0.3335000\n",
       "6 0.0000000 0.981388889 0.2660500 1.000000000 0.0000000 0.0000000"
      ]
     },
     "metadata": {},
     "output_type": "display_data"
    },
    {
     "name": "stdout",
     "output_type": "stream",
     "text": [
      "[1] \"Zachs Calcs\"\n"
     ]
    },
    {
     "data": {
      "text/html": [
       "<table>\n",
       "<tbody>\n",
       "\t<tr><td>0.00000000</td><td>0.5647841 </td><td>0.0000000 </td><td>0.77851606</td><td>0.01771872</td><td>0.77851606</td><td>0.1937984 </td><td>0.77851606</td><td>0.00000000</td><td>0.77851606</td><td>⋯         </td><td>0.0000000 </td><td>0.0000000 </td><td>0.0000000 </td><td>0.77851606</td><td>0.0000000 </td><td>0.69656700</td><td>0.2868217 </td><td>0.77851606</td><td>0.0000000 </td><td>0.0000000 </td></tr>\n",
       "\t<tr><td>0.56478405</td><td>0.0000000 </td><td>0.3178295 </td><td>0.55924695</td><td>0.32447398</td><td>0.55924695</td><td>0.5116279 </td><td>0.55924695</td><td>0.00000000</td><td>0.55924695</td><td>⋯         </td><td>0.3178295 </td><td>0.3178295 </td><td>0.3178295 </td><td>0.55924695</td><td>0.3178295 </td><td>0.47729790</td><td>0.2259136 </td><td>0.55924695</td><td>0.3178295 </td><td>0.3178295 </td></tr>\n",
       "\t<tr><td>0.00000000</td><td>0.3178295 </td><td>0.0000000 </td><td>0.00000000</td><td>0.42192691</td><td>0.00000000</td><td>0.7187154 </td><td>0.00000000</td><td>0.00000000</td><td>0.00000000</td><td>⋯         </td><td>1.0000000 </td><td>1.0000000 </td><td>1.0000000 </td><td>0.00000000</td><td>1.0000000 </td><td>0.00000000</td><td>0.2702104 </td><td>0.00000000</td><td>1.0000000 </td><td>1.0000000 </td></tr>\n",
       "\t<tr><td>0.77851606</td><td>0.5592470 </td><td>0.0000000 </td><td>0.00000000</td><td>0.01771872</td><td>1.00000000</td><td>0.1937984 </td><td>1.00000000</td><td>0.00000000</td><td>1.00000000</td><td>⋯         </td><td>0.0000000 </td><td>0.0000000 </td><td>0.0000000 </td><td>1.00000000</td><td>0.0000000 </td><td>0.91805094</td><td>0.1683278 </td><td>1.00000000</td><td>0.0000000 </td><td>0.0000000 </td></tr>\n",
       "\t<tr><td>0.01771872</td><td>0.3244740 </td><td>0.4219269 </td><td>0.01771872</td><td>0.00000000</td><td>0.01771872</td><td>0.4285714 </td><td>0.01771872</td><td>0.03100775</td><td>0.01771872</td><td>⋯         </td><td>0.4219269 </td><td>0.4219269 </td><td>0.4219269 </td><td>0.01771872</td><td>0.4219269 </td><td>0.01771872</td><td>0.0000000 </td><td>0.01771872</td><td>0.4219269 </td><td>0.4219269 </td></tr>\n",
       "\t<tr><td>0.77851606</td><td>0.5592470 </td><td>0.0000000 </td><td>1.00000000</td><td>0.01771872</td><td>0.00000000</td><td>0.1937984 </td><td>1.00000000</td><td>0.00000000</td><td>1.00000000</td><td>⋯         </td><td>0.0000000 </td><td>0.0000000 </td><td>0.0000000 </td><td>1.00000000</td><td>0.0000000 </td><td>0.91805094</td><td>0.1683278 </td><td>1.00000000</td><td>0.0000000 </td><td>0.0000000 </td></tr>\n",
       "</tbody>\n",
       "</table>\n"
      ],
      "text/latex": [
       "\\begin{tabular}{lllllllllllllllllllllllllllllllllllllllllllllllllllllllllll}\n",
       "\t 0.00000000 & 0.5647841  & 0.0000000  & 0.77851606 & 0.01771872 & 0.77851606 & 0.1937984  & 0.77851606 & 0.00000000 & 0.77851606 & ⋯          & 0.0000000  & 0.0000000  & 0.0000000  & 0.77851606 & 0.0000000  & 0.69656700 & 0.2868217  & 0.77851606 & 0.0000000  & 0.0000000 \\\\\n",
       "\t 0.56478405 & 0.0000000  & 0.3178295  & 0.55924695 & 0.32447398 & 0.55924695 & 0.5116279  & 0.55924695 & 0.00000000 & 0.55924695 & ⋯          & 0.3178295  & 0.3178295  & 0.3178295  & 0.55924695 & 0.3178295  & 0.47729790 & 0.2259136  & 0.55924695 & 0.3178295  & 0.3178295 \\\\\n",
       "\t 0.00000000 & 0.3178295  & 0.0000000  & 0.00000000 & 0.42192691 & 0.00000000 & 0.7187154  & 0.00000000 & 0.00000000 & 0.00000000 & ⋯          & 1.0000000  & 1.0000000  & 1.0000000  & 0.00000000 & 1.0000000  & 0.00000000 & 0.2702104  & 0.00000000 & 1.0000000  & 1.0000000 \\\\\n",
       "\t 0.77851606 & 0.5592470  & 0.0000000  & 0.00000000 & 0.01771872 & 1.00000000 & 0.1937984  & 1.00000000 & 0.00000000 & 1.00000000 & ⋯          & 0.0000000  & 0.0000000  & 0.0000000  & 1.00000000 & 0.0000000  & 0.91805094 & 0.1683278  & 1.00000000 & 0.0000000  & 0.0000000 \\\\\n",
       "\t 0.01771872 & 0.3244740  & 0.4219269  & 0.01771872 & 0.00000000 & 0.01771872 & 0.4285714  & 0.01771872 & 0.03100775 & 0.01771872 & ⋯          & 0.4219269  & 0.4219269  & 0.4219269  & 0.01771872 & 0.4219269  & 0.01771872 & 0.0000000  & 0.01771872 & 0.4219269  & 0.4219269 \\\\\n",
       "\t 0.77851606 & 0.5592470  & 0.0000000  & 1.00000000 & 0.01771872 & 0.00000000 & 0.1937984  & 1.00000000 & 0.00000000 & 1.00000000 & ⋯          & 0.0000000  & 0.0000000  & 0.0000000  & 1.00000000 & 0.0000000  & 0.91805094 & 0.1683278  & 1.00000000 & 0.0000000  & 0.0000000 \\\\\n",
       "\\end{tabular}\n"
      ],
      "text/markdown": [
       "\n",
       "| 0.00000000 | 0.5647841  | 0.0000000  | 0.77851606 | 0.01771872 | 0.77851606 | 0.1937984  | 0.77851606 | 0.00000000 | 0.77851606 | ⋯          | 0.0000000  | 0.0000000  | 0.0000000  | 0.77851606 | 0.0000000  | 0.69656700 | 0.2868217  | 0.77851606 | 0.0000000  | 0.0000000  | \n",
       "| 0.56478405 | 0.0000000  | 0.3178295  | 0.55924695 | 0.32447398 | 0.55924695 | 0.5116279  | 0.55924695 | 0.00000000 | 0.55924695 | ⋯          | 0.3178295  | 0.3178295  | 0.3178295  | 0.55924695 | 0.3178295  | 0.47729790 | 0.2259136  | 0.55924695 | 0.3178295  | 0.3178295  | \n",
       "| 0.00000000 | 0.3178295  | 0.0000000  | 0.00000000 | 0.42192691 | 0.00000000 | 0.7187154  | 0.00000000 | 0.00000000 | 0.00000000 | ⋯          | 1.0000000  | 1.0000000  | 1.0000000  | 0.00000000 | 1.0000000  | 0.00000000 | 0.2702104  | 0.00000000 | 1.0000000  | 1.0000000  | \n",
       "| 0.77851606 | 0.5592470  | 0.0000000  | 0.00000000 | 0.01771872 | 1.00000000 | 0.1937984  | 1.00000000 | 0.00000000 | 1.00000000 | ⋯          | 0.0000000  | 0.0000000  | 0.0000000  | 1.00000000 | 0.0000000  | 0.91805094 | 0.1683278  | 1.00000000 | 0.0000000  | 0.0000000  | \n",
       "| 0.01771872 | 0.3244740  | 0.4219269  | 0.01771872 | 0.00000000 | 0.01771872 | 0.4285714  | 0.01771872 | 0.03100775 | 0.01771872 | ⋯          | 0.4219269  | 0.4219269  | 0.4219269  | 0.01771872 | 0.4219269  | 0.01771872 | 0.0000000  | 0.01771872 | 0.4219269  | 0.4219269  | \n",
       "| 0.77851606 | 0.5592470  | 0.0000000  | 1.00000000 | 0.01771872 | 0.00000000 | 0.1937984  | 1.00000000 | 0.00000000 | 1.00000000 | ⋯          | 0.0000000  | 0.0000000  | 0.0000000  | 1.00000000 | 0.0000000  | 0.91805094 | 0.1683278  | 1.00000000 | 0.0000000  | 0.0000000  | \n",
       "\n",
       "\n"
      ],
      "text/plain": [
       "     [,1]       [,2]      [,3]      [,4]       [,5]       [,6]       [,7]     \n",
       "[1,] 0.00000000 0.5647841 0.0000000 0.77851606 0.01771872 0.77851606 0.1937984\n",
       "[2,] 0.56478405 0.0000000 0.3178295 0.55924695 0.32447398 0.55924695 0.5116279\n",
       "[3,] 0.00000000 0.3178295 0.0000000 0.00000000 0.42192691 0.00000000 0.7187154\n",
       "[4,] 0.77851606 0.5592470 0.0000000 0.00000000 0.01771872 1.00000000 0.1937984\n",
       "[5,] 0.01771872 0.3244740 0.4219269 0.01771872 0.00000000 0.01771872 0.4285714\n",
       "[6,] 0.77851606 0.5592470 0.0000000 1.00000000 0.01771872 0.00000000 0.1937984\n",
       "     [,8]       [,9]       [,10]      [,11] [,12]     [,13]     [,14]    \n",
       "[1,] 0.77851606 0.00000000 0.77851606 ⋯     0.0000000 0.0000000 0.0000000\n",
       "[2,] 0.55924695 0.00000000 0.55924695 ⋯     0.3178295 0.3178295 0.3178295\n",
       "[3,] 0.00000000 0.00000000 0.00000000 ⋯     1.0000000 1.0000000 1.0000000\n",
       "[4,] 1.00000000 0.00000000 1.00000000 ⋯     0.0000000 0.0000000 0.0000000\n",
       "[5,] 0.01771872 0.03100775 0.01771872 ⋯     0.4219269 0.4219269 0.4219269\n",
       "[6,] 1.00000000 0.00000000 1.00000000 ⋯     0.0000000 0.0000000 0.0000000\n",
       "     [,15]      [,16]     [,17]      [,18]     [,19]      [,20]     [,21]    \n",
       "[1,] 0.77851606 0.0000000 0.69656700 0.2868217 0.77851606 0.0000000 0.0000000\n",
       "[2,] 0.55924695 0.3178295 0.47729790 0.2259136 0.55924695 0.3178295 0.3178295\n",
       "[3,] 0.00000000 1.0000000 0.00000000 0.2702104 0.00000000 1.0000000 1.0000000\n",
       "[4,] 1.00000000 0.0000000 0.91805094 0.1683278 1.00000000 0.0000000 0.0000000\n",
       "[5,] 0.01771872 0.4219269 0.01771872 0.0000000 0.01771872 0.4219269 0.4219269\n",
       "[6,] 1.00000000 0.0000000 0.91805094 0.1683278 1.00000000 0.0000000 0.0000000"
      ]
     },
     "metadata": {},
     "output_type": "display_data"
    }
   ],
   "source": [
    "# Read in the result CSV Dr. Kress gave me \n",
    "\n",
    "df = read.csv('/home/zackymo/Desktop/DegasAdjTimeW728.csv')\n",
    "\n",
    "print('Dr. Kress Calcs')\n",
    "head(df)\n",
    "\n",
    "print('Zachs Calcs')\n",
    "head(unthresholded)"
   ]
  }
 ],
 "metadata": {
  "anaconda-cloud": {},
  "kernelspec": {
   "display_name": "R",
   "language": "R",
   "name": "ir"
  },
  "language_info": {
   "codemirror_mode": "r",
   "file_extension": ".r",
   "mimetype": "text/x-r-source",
   "name": "R",
   "pygments_lexer": "r",
   "version": "3.3.2"
  }
 },
 "nbformat": 4,
 "nbformat_minor": 1
}
