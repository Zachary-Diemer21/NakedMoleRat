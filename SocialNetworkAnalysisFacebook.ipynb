{
 "cells": [
  {
   "cell_type": "code",
   "execution_count": null,
   "metadata": {
    "collapsed": true
   },
   "outputs": [],
   "source": [
    "# Graph Facebook API\n",
    "\n",
    "# https://developers.facebook.com/tools/explorer/145634995501895/?method=GET&path=10204999893181089%2Fposts%3Flimit%3D25%26since%3D1471572230%26__paging_token%3Denc_AdAk6TY0aOakrbac9CvIIXscVHGr0x3OlvykZBpy3imKPBKKCqw7GJ1k52G5jJClZAOM5D2Ljyu2PRZCB9YzkAp7RZAs%26__previous%3D1&version=v2.8\n",
    "\n",
    "# My Facebook Access Token \n",
    "# EAACEdEose0cBAOiAuhfEfRfgP6xwGMFjjZBHsPVyZChs77MAPpb5xWB21UZCJuIvhJqJbZATbS9eutHpskfFo2T8iBiyrX5v1GykD0CWA27UBYoiebYyE2e2xYJ92bavUfRAYQj3E8rQngjvreGF5MH3C2WxmbxJSI4zfTNCZBnXaZB29V5Rk3aOqmKzdlVXamc4sGLG8tsZCkZApGaV5h2ftZA04Fy4ZAyfEZD\n",
    "\n",
    "# Link to the tutorial I am utilizing \n",
    "# https://www.youtube.com/watch?v=259sgRMHso0&list=PL6XFeulyPj7BToT27J_VNN6JZVPJqQuGp&index=2\n",
    "\n",
    "# Useful Facebook Graph Queries \n",
    "\n",
    "# me?metadata=1\n",
    "\n",
    "#"
   ]
  },
  {
   "cell_type": "code",
   "execution_count": 16,
   "metadata": {
    "collapsed": false
   },
   "outputs": [
    {
     "name": "stdout",
     "output_type": "stream",
     "text": [
      "{'id': '10204999893181089', 'name': 'Zachary Diemer'}\n"
     ]
    }
   ],
   "source": [
    "# Basic API Script \n",
    "\n",
    "import requests as req\n",
    "import json \n",
    "\n",
    "# This is my current access token \n",
    "# Shit Access tokens expire, going to have to make a function to get the new access token and update the url \n",
    "access_token = \"EAACEdEose0cBAOiAuhfEfRfgP6xwGMFjjZBHsPVyZChs77MAPpb5xWB21UZCJuIvhJqJbZATbS9eutHpskfFo2T8iBiyrX5v1GykD0CWA27UBYoiebYyE2e2xYJ92bavUfRAYQj3E8rQngjvreGF5MH3C2WxmbxJSI4zfTNCZBnXaZB29V5Rk3aOqmKzdlVXamc4sGLG8tsZCkZApGaV5h2ftZA04Fy4ZAyfEZD\"\n",
    "\n",
    "# This is the current url structure that allows me to access the api \n",
    "url = 'https://graph.facebook.com/v2.8/me?access_token={}'.format(access_token)\n",
    "\n",
    "# Sending out a url GET request \n",
    "res = req.get(url)\n",
    "\n",
    "fb_dataMe = json.loads(res.text)\n",
    "\n",
    "print(fb_dataMe)\n"
   ]
  }
 ],
 "metadata": {
  "anaconda-cloud": {},
  "kernelspec": {
   "display_name": "Python [conda root]",
   "language": "python",
   "name": "conda-root-py"
  },
  "language_info": {
   "codemirror_mode": {
    "name": "ipython",
    "version": 3
   },
   "file_extension": ".py",
   "mimetype": "text/x-python",
   "name": "python",
   "nbconvert_exporter": "python",
   "pygments_lexer": "ipython3",
   "version": "3.5.2"
  }
 },
 "nbformat": 4,
 "nbformat_minor": 1
}
