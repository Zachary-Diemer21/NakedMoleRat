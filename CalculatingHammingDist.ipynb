{
 "cells": [
  {
   "cell_type": "markdown",
   "metadata": {},
   "source": [
    "# Remove other Files script"
   ]
  },
  {
   "cell_type": "code",
   "execution_count": null,
   "metadata": {
    "collapsed": true
   },
   "outputs": [],
   "source": [
    "# Remove other Files script\n",
    "\n",
    "otherFiles <- list.files(\"/home/zackymo/Desktop/birth_data_zach_calcs_50_V1\", pattern=\"*DateTime.txt\", full.names = TRUE)\n",
    "otherFiles1 <- list.files(\"/home/zackymo/Desktop/birth_data_zach_calcs_50_V1\", pattern=\"*NMRids.txt\", full.names = TRUE)\n",
    "\n",
    "file.remove(dir(  \n",
    "  \"/home/zackymo/Desktop/birth_data_zach_calcs_50_V1\", \n",
    "  pattern = \"*TimeSeconds.txt\", \n",
    "  full.names = TRUE\n",
    "))\n",
    "\n",
    "# Can also even create a pattern variable that is a vector of some sort and input the patterns in there\n",
    "# Create a loop that utilizes the pattern as a variable, then go to the next pattern "
   ]
  },
  {
   "cell_type": "markdown",
   "metadata": {},
   "source": [
    "# New HammingDistance Script after StackOverflow edits - Different then Dr. Kress's calcs "
   ]
  },
  {
   "cell_type": "code",
   "execution_count": null,
   "metadata": {
    "collapsed": false
   },
   "outputs": [],
   "source": [
    "# This version of code works with multiple data files in a particular folder, \n",
    "# performs some matrix calculations on them and outputs the new matrices with their corresponding titles \n",
    "# into that same folder - currently there are 165 stateFiles within this particular folder which \n",
    "# means 330 additional files were created in that same folder in about a minutes worth of time. \n",
    "\n",
    "# Some edits are thanks to the critiques from @flodel on stackoverflow\n",
    "# Final Script after edits \n",
    "\n",
    "# Next steps: My calcs are different then Dr. Kress's, need to confirm \n",
    "# who is right and who is wrong by running it on some small examples \n",
    "\n",
    "# The matrix is actually not thresholded, we would like to save this unthresholded matrix \n",
    "# to a file for further verification, also I changed \"for (j in i:numRats)\"\n",
    "# and this makes the diagonal of the thresholded matrix to 1, need to\n",
    "# zero that out\n",
    "\n",
    "# Establish working directory\n",
    "workingDir <- \"/home/zackymo/Desktop/Sample\"\n",
    "setwd(workingDir)\n",
    "\n",
    "# Read in State Files from the working directory, and control \n",
    "stateFiles <- list.files(pattern = \"*state.txt\", full.names=FALSE)\n",
    "thres <- .5\n",
    "\n",
    "# Next Line for debugging purposes \n",
    "# file <- \"/home/zackymo/Desktop/Sample/5-14-2014streamW728PPstate.txt\"\n",
    "\n",
    "# This statement automagically reads the data into a dataframe \n",
    "df <- read.table(file)\n",
    "\n",
    "# Create some data frame specific vars\n",
    "numRats <- ncol(rawData)\n",
    "numObs <- nrow(rawData)\n",
    "\n",
    "# Create matrices \n",
    "incidence <- diag(numObs, numRats)\n",
    "thresholded <- diag(0, numRats)\n",
    "\n",
    "# Fill incidence and thresholded matrices \n",
    "for (i in 1:(numRats-1)) {\n",
    "    for (j in i:numRats) {\n",
    "      incidence[i,j] <- incidence[j,i] <- sum(df[,i] == df[,j])\n",
    "      thresholded[i,j] <- thresholded[j,i] <- incidence[i,j]/nrow(df) #>= thres\n",
    "    }\n",
    "}\n",
    "\n",
    "# Adjust the file name strings this way I can save matrices to a new file\n",
    "outFile <- sub(\"txt$\", \"toInc\", file)\n",
    "outFile1 <- sub(\"txt$\", \"toThres\", file)\n",
    "\n",
    "#Creating the various output files \n",
    "write.table(incidence, file = outFile, \n",
    "            row.names = FALSE, \n",
    "            col.names = FALSE)\n",
    "\n",
    "write.table(thresholded, file = outFile1, \n",
    "            row.names = FALSE, \n",
    "            col.names = FALSE)\n",
    "\n",
    "# }\n"
   ]
  },
  {
   "cell_type": "markdown",
   "metadata": {},
   "source": [
    "# Old Script before StackOverflow edits "
   ]
  },
  {
   "cell_type": "code",
   "execution_count": null,
   "metadata": {
    "collapsed": false
   },
   "outputs": [],
   "source": [
    "# This version of code works with multiple data files in a particular folder, \n",
    "# performs some matrix calculations on them and outputs the new matrices with their corresponding titles \n",
    "# into that same folder - currently there are 165 stateFiles within this particular folder which \n",
    "# means 330 additional files were created in that same folder in about a minutes worth of time. \n",
    "# 6.875 days are in with all of these files  \n",
    "\n",
    "stateFiles <- list.files(\"/home/zackymo/Desktop/birth_data_zach_calcs_75/\", pattern=\"*state.txt\", full.names=TRUE)\n",
    "thres <- .5\n",
    "\n",
    "for(file in stateFiles){\n",
    "  rawData = read.table(file)\n",
    "  df <- data.frame(rawData)\n",
    "  incidence <- matrix(rep(0, ncol(df)*ncol(df)), nrow=ncol(df))\n",
    "  thresholded <- matrix(rep(0, ncol(df)*ncol(df)), nrow=ncol(df)) \n",
    "  \n",
    "  #Set the diagonal = to constants due to the fact that both are symmetric matrices \n",
    "  diag(incidence) <- nrow(df)\n",
    "  diag(thresholded) <- 0\n",
    "  \n",
    "  #Describe for loop here \n",
    "  for (i in 1:(ncol(df)-1)) {\n",
    "    for (j in (i+1):ncol(df)) {\n",
    "      incidence[i,j] = incidence[j,i] = sum(df[,i] == df[,j])\n",
    "      if(incidence[i,j]/nrow(df) >= thres){\n",
    "        thresholded[i,j] = thresholded[j,i] = 1\n",
    "      }#should these conditions be reversed for effiency? How can I check that? \n",
    "      else{\n",
    "        thresholded[i,j] = thresholded[j,i] = 0\n",
    "      }\n",
    "    }\n",
    "  }\n",
    "  #Data preparation for output file - transposing matrices \n",
    "  tincidence <- t(incidence) \n",
    "  tthresholded <- t(thresholded)\n",
    "  \n",
    "  #Manipulating the fileName to be able to create a new file w/ a meaningful file name\n",
    "  #I may be able to split by / then edit the paste below f[1] + f[2] + f[3] + f[4] + f[5]\n",
    "  f <- strsplit(file, split='.', fixed=TRUE)\n",
    "  f <- unlist(f)\n",
    "  \n",
    "  #This will not work -> because you end up \n",
    "  #Setting the current directory for the output files to be placed, and never \n",
    "  #setwd(\"/home/zackymo/Desktop/birth_data1_out_files\")\n",
    "  \n",
    "  #Creating the various output files \n",
    "  write(tincidence, file = paste(f[1],\"toInc\", sep = \"\"),\n",
    "        ncolumns = ncol(df),\n",
    "        sep = \" \") \n",
    "  \n",
    "  write(tthresholded, file = paste(f[1],\"toThresholded\", sep = \"\"),\n",
    "        ncolumns = ncol(df),\n",
    "        sep = \" \") \n",
    "}\n"
   ]
  }
 ],
 "metadata": {
  "anaconda-cloud": {},
  "kernelspec": {
   "display_name": "R",
   "language": "R",
   "name": "ir"
  },
  "language_info": {
   "codemirror_mode": "r",
   "file_extension": ".r",
   "mimetype": "text/x-r-source",
   "name": "R",
   "pygments_lexer": "r",
   "version": "3.3.2"
  }
 },
 "nbformat": 4,
 "nbformat_minor": 1
}
