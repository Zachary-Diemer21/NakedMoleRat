{
 "cells": [
  {
   "cell_type": "code",
   "execution_count": null,
   "metadata": {
    "collapsed": true
   },
   "outputs": [],
   "source": [
    "# Links to necessary Documentation \n",
    "\n",
    "https://media.readthedocs.org/pdf/pillow/latest/pillow.pdf\n",
    "    \n",
    "page 109 and cntrl + f .save as well \n",
    "    \n",
    "https://github.com/python-pillow/Pillow/blob/master/PIL/GifImagePlugin.py\n",
    "\n"
   ]
  },
  {
   "cell_type": "code",
   "execution_count": 57,
   "metadata": {
    "collapsed": false
   },
   "outputs": [],
   "source": [
    "# from PIL import Image\n",
    "\n",
    "from PIL.Image import core as image\n",
    "from PIL import ImageSequence\n",
    "from PIL import GifImagePlugin as gip\n",
    "\n",
    "import glob\n",
    "\n",
    "from matplotlib.pyplot import imshow\n",
    "\n",
    "%matplotlib inline\n"
   ]
  },
  {
   "cell_type": "code",
   "execution_count": 11,
   "metadata": {
    "collapsed": false
   },
   "outputs": [
    {
     "name": "stdout",
     "output_type": "stream",
     "text": [
      "/home/zackymo/Desktop/WeekendDists\n"
     ]
    }
   ],
   "source": [
    "# Change the directory to the one where your files are located \n",
    "\n",
    "%cd /home/zackymo/Desktop/WeekendDists\n"
   ]
  },
  {
   "cell_type": "markdown",
   "metadata": {},
   "source": [
    "# Good Portion of Script "
   ]
  },
  {
   "cell_type": "code",
   "execution_count": 56,
   "metadata": {
    "collapsed": false
   },
   "outputs": [
    {
     "ename": "TypeError",
     "evalue": "'int' object is not iterable",
     "output_type": "error",
     "traceback": [
      "\u001b[0;31m---------------------------------------------------------------------------\u001b[0m",
      "\u001b[0;31mTypeError\u001b[0m                                 Traceback (most recent call last)",
      "\u001b[0;32m<ipython-input-56-2a2572e1f607>\u001b[0m in \u001b[0;36m<module>\u001b[0;34m()\u001b[0m\n\u001b[1;32m     11\u001b[0m \u001b[0;34m\u001b[0m\u001b[0m\n\u001b[1;32m     12\u001b[0m \u001b[0mimages\u001b[0m \u001b[0;34m=\u001b[0m \u001b[0;34m[\u001b[0m\u001b[0mImage\u001b[0m\u001b[0;34m.\u001b[0m\u001b[0mopen\u001b[0m\u001b[0;34m(\u001b[0m\u001b[0mimage\u001b[0m\u001b[0;34m)\u001b[0m \u001b[0;32mfor\u001b[0m \u001b[0mimage\u001b[0m \u001b[0;32min\u001b[0m \u001b[0mglob\u001b[0m\u001b[0;34m.\u001b[0m\u001b[0mglob\u001b[0m\u001b[0;34m(\u001b[0m\u001b[0mgif_filename\u001b[0m \u001b[0;34m+\u001b[0m \u001b[0;34m'*.png'\u001b[0m\u001b[0;34m)\u001b[0m\u001b[0;34m]\u001b[0m\u001b[0;34m\u001b[0m\u001b[0m\n\u001b[0;32m---> 13\u001b[0;31m \u001b[0;32mfor\u001b[0m \u001b[0mi\u001b[0m \u001b[0;32min\u001b[0m \u001b[0mlen\u001b[0m\u001b[0;34m(\u001b[0m\u001b[0mimages\u001b[0m\u001b[0;34m)\u001b[0m\u001b[0;34m:\u001b[0m\u001b[0;34m\u001b[0m\u001b[0m\n\u001b[0m\u001b[1;32m     14\u001b[0m     \u001b[0mimages\u001b[0m\u001b[0;34m.\u001b[0m\u001b[0msave\u001b[0m\u001b[0;34m(\u001b[0m\u001b[0;34m'hello.gif'\u001b[0m\u001b[0;34m,\u001b[0m \u001b[0msave_all\u001b[0m \u001b[0;34m=\u001b[0m \u001b[0;32mTrue\u001b[0m\u001b[0;34m,\u001b[0m \u001b[0mappend_images\u001b[0m \u001b[0;34m=\u001b[0m \u001b[0mimages\u001b[0m\u001b[0;34m)\u001b[0m\u001b[0;34m\u001b[0m\u001b[0m\n\u001b[1;32m     15\u001b[0m \u001b[0;34m\u001b[0m\u001b[0m\n",
      "\u001b[0;31mTypeError\u001b[0m: 'int' object is not iterable"
     ]
    }
   ],
   "source": [
    "# So this will put multiple images into one specific file this way you can right and left\n",
    "# arrow click through them \n",
    "\n",
    "gif_filename = 'Distributions of All Specific Animals with the Majority of Animals within the ColonyW'\n",
    "\n",
    "# Image.open(\"Distributions of All Specific Animals with the Majority of Animals within the ColonyW1.png\")\n",
    "# file_path_name = '/home/zackymo/Desktop/' + gif_filename + '.gif'\n",
    "# im.save(out, save_all=True, append_images=[im1, im2, ...])\n",
    "\n",
    "images = []\n",
    "\n",
    "images = [Image.open(image) for image in glob.glob(gif_filename + '*.png')]\n",
    "\n",
    "for im in ImageSequence.Iterator(images):\n",
    "    im.save('hello.gif', save_all = True)\n",
    "\n",
    "# im is your original image\n",
    "# frames = [frame.copy() for frame in ImageSequence.Iterator(images)]\n",
    "\n",
    "# write GIF animation\n",
    "# images.save('hello.gif', save_all = True)"
   ]
  },
  {
   "cell_type": "markdown",
   "metadata": {},
   "source": [
    "# Continued Experimentation"
   ]
  },
  {
   "cell_type": "code",
   "execution_count": 32,
   "metadata": {
    "collapsed": false
   },
   "outputs": [],
   "source": [
    "from PIL import Image\n",
    "\n",
    "im = Image.open('Distributions of All Specific Animals with the Majority of Animals within the ColonyW1.png')\n",
    " # skip to the second frame\n",
    "\n",
    "# try:\n",
    "#     while 1:\n",
    "#         im.seek(im.tell()+1)\n",
    "#         # do something to im\n",
    "# except EOFError:\n",
    "#     pass # end of sequence\n",
    "\n",
    "\n",
    "for frame in ImageSequence.Iterator(im):\n",
    "    im.show()\n"
   ]
  },
  {
   "cell_type": "code",
   "execution_count": null,
   "metadata": {
    "collapsed": true
   },
   "outputs": [],
   "source": [
    "gif_filename = 'Distributions of All Specific Animals with the Majority of Animals within the ColonyW'\n",
    "\n",
    "images = [PIL_Image.open(image) for image in glob.glob(gif_filename + '*.png')]\n",
    "file_path_name = '/home/zackymo/Desktop/' + gif_filename + '.gif'\n",
    "writeGif(file_path_name, images, duration=0.1)\n",
    "IPdisplay.Image(url=file_path_name)"
   ]
  },
  {
   "cell_type": "code",
   "execution_count": null,
   "metadata": {
    "collapsed": true
   },
   "outputs": [],
   "source": [
    "import PIL\n",
    "from PIL import Image\n",
    "import StringIO\n",
    "import images2gif\n",
    "\n",
    "images = []\n",
    "for frame in animation1.frames:\n",
    "    img_data = s3manager.get_file_as_string(frame.s3_filename)\n",
    "    image = Image.open(StringIO.StringIO(img_data))\n",
    "    images.append(image)\n",
    "\n",
    "images2gif.writeGif('lala3.gif', images, duration=0.5, dither=0)  \n"
   ]
  },
  {
   "cell_type": "markdown",
   "metadata": {},
   "source": [
    "# Create a gif of Trajectory Plots \n"
   ]
  },
  {
   "cell_type": "code",
   "execution_count": 83,
   "metadata": {
    "collapsed": false
   },
   "outputs": [
    {
     "name": "stdout",
     "output_type": "stream",
     "text": [
      "/home/zackymo/Desktop/StuffToShowAndTellDrKress/WeekendDists/SpecAnimalsWModeWeekends\n"
     ]
    }
   ],
   "source": [
    "%cd /home/zackymo/Desktop/StuffToShowAndTellDrKress/WeekendDists/SpecAnimalsWModeWeekends"
   ]
  },
  {
   "cell_type": "code",
   "execution_count": 84,
   "metadata": {
    "collapsed": false
   },
   "outputs": [],
   "source": [
    "# This actually worked better \n",
    "\n",
    "gif_filename = 'Distributions of All Specific Animals with the Majority of Animals within the Colony'\n",
    "\n",
    "images = []\n",
    "\n",
    "for image in glob.glob(gif_filename + '*.png'):\n",
    "    img = Image.open(image).save('yes.gif')\n",
    "    "
   ]
  }
 ],
 "metadata": {
  "anaconda-cloud": {},
  "kernelspec": {
   "display_name": "Python [conda root]",
   "language": "python",
   "name": "conda-root-py"
  },
  "language_info": {
   "codemirror_mode": {
    "name": "ipython",
    "version": 3
   },
   "file_extension": ".py",
   "mimetype": "text/x-python",
   "name": "python",
   "nbconvert_exporter": "python",
   "pygments_lexer": "ipython3",
   "version": "3.5.2"
  }
 },
 "nbformat": 4,
 "nbformat_minor": 1
}
